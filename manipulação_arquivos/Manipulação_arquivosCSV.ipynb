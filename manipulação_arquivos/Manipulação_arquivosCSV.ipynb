{
 "cells": [
  {
   "cell_type": "markdown",
   "id": "3f0479f5-0e75-4177-a9ec-4a8bdd9e61a6",
   "metadata": {},
   "source": [
    "### Manipulação de Arquivos - Parte 5\n",
    "Este arquivo foi obtido no site de dados abertos do governo da cidade de Chicago, nos EUA:\n",
    "\n",
    "https://data.cityofchicago.org/"
   ]
  },
  {
   "cell_type": "code",
   "execution_count": 43,
   "id": "e3cbf450-bd78-4bcf-ac43-df1122070e01",
   "metadata": {},
   "outputs": [],
   "source": [
    "import pandas as pd"
   ]
  },
  {
   "cell_type": "code",
   "execution_count": 44,
   "id": "dddc974b-80e1-4cce-b3e3-672f23646573",
   "metadata": {},
   "outputs": [],
   "source": [
    "df = pd.read_csv('arquivos/salarios.csv')"
   ]
  },
  {
   "cell_type": "code",
   "execution_count": 45,
   "id": "3a859f8a-da59-451b-b3b6-4e45acf72442",
   "metadata": {},
   "outputs": [
    {
     "data": {
      "text/html": [
       "<div>\n",
       "<style scoped>\n",
       "    .dataframe tbody tr th:only-of-type {\n",
       "        vertical-align: middle;\n",
       "    }\n",
       "\n",
       "    .dataframe tbody tr th {\n",
       "        vertical-align: top;\n",
       "    }\n",
       "\n",
       "    .dataframe thead th {\n",
       "        text-align: right;\n",
       "    }\n",
       "</style>\n",
       "<table border=\"1\" class=\"dataframe\">\n",
       "  <thead>\n",
       "    <tr style=\"text-align: right;\">\n",
       "      <th></th>\n",
       "      <th>Name</th>\n",
       "      <th>Job Titles</th>\n",
       "      <th>Department</th>\n",
       "      <th>Full or Part-Time</th>\n",
       "      <th>Salary or Hourly</th>\n",
       "      <th>Typical Hours</th>\n",
       "      <th>Annual Salary</th>\n",
       "      <th>Hourly Rate</th>\n",
       "    </tr>\n",
       "  </thead>\n",
       "  <tbody>\n",
       "    <tr>\n",
       "      <th>0</th>\n",
       "      <td>GARCIA, CHRISTOPHER A</td>\n",
       "      <td>CLERK - BD OF ELECTIONS</td>\n",
       "      <td>BOARD OF ELECTION COMMISSIONERS</td>\n",
       "      <td>F</td>\n",
       "      <td>SALARY</td>\n",
       "      <td>NaN</td>\n",
       "      <td>34176.0</td>\n",
       "      <td>NaN</td>\n",
       "    </tr>\n",
       "    <tr>\n",
       "      <th>1</th>\n",
       "      <td>ASHFORD, MARQUISHA D</td>\n",
       "      <td>INQUIRY AIDE III</td>\n",
       "      <td>OFFICE OF PUBLIC SAFETY ADMINISTRATION</td>\n",
       "      <td>F</td>\n",
       "      <td>SALARY</td>\n",
       "      <td>NaN</td>\n",
       "      <td>46056.0</td>\n",
       "      <td>NaN</td>\n",
       "    </tr>\n",
       "    <tr>\n",
       "      <th>2</th>\n",
       "      <td>MATHIS, DESIREE</td>\n",
       "      <td>PERSONNEL ASSISTANT</td>\n",
       "      <td>OFFICE OF PUBLIC SAFETY ADMINISTRATION</td>\n",
       "      <td>F</td>\n",
       "      <td>SALARY</td>\n",
       "      <td>NaN</td>\n",
       "      <td>70608.0</td>\n",
       "      <td>NaN</td>\n",
       "    </tr>\n",
       "    <tr>\n",
       "      <th>3</th>\n",
       "      <td>GRAY, DERYL R</td>\n",
       "      <td>ALDERMANIC AIDE</td>\n",
       "      <td>CITY COUNCIL</td>\n",
       "      <td>P</td>\n",
       "      <td>HOURLY</td>\n",
       "      <td>20.0</td>\n",
       "      <td>NaN</td>\n",
       "      <td>25.0</td>\n",
       "    </tr>\n",
       "    <tr>\n",
       "      <th>4</th>\n",
       "      <td>MACK, QIANA S</td>\n",
       "      <td>LEAVE OF ABSENCE ADMIN</td>\n",
       "      <td>OFFICE OF PUBLIC SAFETY ADMINISTRATION</td>\n",
       "      <td>F</td>\n",
       "      <td>SALARY</td>\n",
       "      <td>NaN</td>\n",
       "      <td>66684.0</td>\n",
       "      <td>NaN</td>\n",
       "    </tr>\n",
       "  </tbody>\n",
       "</table>\n",
       "</div>"
      ],
      "text/plain": [
       "                    Name               Job Titles  \\\n",
       "0  GARCIA, CHRISTOPHER A  CLERK - BD OF ELECTIONS   \n",
       "1   ASHFORD, MARQUISHA D         INQUIRY AIDE III   \n",
       "2        MATHIS, DESIREE      PERSONNEL ASSISTANT   \n",
       "3          GRAY, DERYL R          ALDERMANIC AIDE   \n",
       "4          MACK, QIANA S   LEAVE OF ABSENCE ADMIN   \n",
       "\n",
       "                               Department Full or Part-Time Salary or Hourly  \\\n",
       "0         BOARD OF ELECTION COMMISSIONERS                 F           SALARY   \n",
       "1  OFFICE OF PUBLIC SAFETY ADMINISTRATION                 F           SALARY   \n",
       "2  OFFICE OF PUBLIC SAFETY ADMINISTRATION                 F           SALARY   \n",
       "3                            CITY COUNCIL                 P           HOURLY   \n",
       "4  OFFICE OF PUBLIC SAFETY ADMINISTRATION                 F           SALARY   \n",
       "\n",
       "   Typical Hours  Annual Salary  Hourly Rate  \n",
       "0            NaN        34176.0          NaN  \n",
       "1            NaN        46056.0          NaN  \n",
       "2            NaN        70608.0          NaN  \n",
       "3           20.0            NaN         25.0  \n",
       "4            NaN        66684.0          NaN  "
      ]
     },
     "execution_count": 45,
     "metadata": {},
     "output_type": "execute_result"
    }
   ],
   "source": [
    "df.head()"
   ]
  },
  {
   "cell_type": "markdown",
   "id": "63773fb7-73a2-4c29-aa5c-e2db724acb5b",
   "metadata": {},
   "source": [
    "**Dividindo o arquivo em colunas**"
   ]
  },
  {
   "cell_type": "code",
   "execution_count": 46,
   "id": "4e0bdb2e-d496-4bc7-81c6-4242faa01c69",
   "metadata": {},
   "outputs": [],
   "source": [
    "f = open('arquivos/salarios.csv', 'r')"
   ]
  },
  {
   "cell_type": "code",
   "execution_count": 47,
   "id": "f9bb83a4-e299-46f9-bc3a-cdbe97300402",
   "metadata": {},
   "outputs": [],
   "source": [
    "data = f.read()"
   ]
  },
  {
   "cell_type": "code",
   "execution_count": 48,
   "id": "47aa328f-1357-4be5-a90d-2edf04b38f8b",
   "metadata": {},
   "outputs": [],
   "source": [
    "rows = data.split('\\n')"
   ]
  },
  {
   "cell_type": "code",
   "execution_count": 49,
   "id": "6e02cad1-c2a9-4691-9f27-745d065104da",
   "metadata": {},
   "outputs": [],
   "source": [
    "full_data = []"
   ]
  },
  {
   "cell_type": "code",
   "execution_count": 50,
   "id": "768d48a5-9654-4610-8096-14c6e866368e",
   "metadata": {},
   "outputs": [],
   "source": [
    "for row in rows:\n",
    "    split_row = row.split(',')\n",
    "    full_data.append(split_row)\n",
    "\n",
    "# print(full_data)"
   ]
  },
  {
   "cell_type": "markdown",
   "id": "0fdb7cbe-4ded-4655-a1da-72b80f72e8d3",
   "metadata": {},
   "source": [
    "**Contando o número de linhas de um arquivo**"
   ]
  },
  {
   "cell_type": "code",
   "execution_count": null,
   "id": "43d66f09-a91d-4e16-8c77-5041ecccb001",
   "metadata": {},
   "outputs": [],
   "source": [
    "count = 0\n",
    "for row in full_data:\n",
    "    count += 1"
   ]
  },
  {
   "cell_type": "code",
   "execution_count": 52,
   "id": "88e85e00-6d12-451f-a649-b0c87be3a81d",
   "metadata": {},
   "outputs": [
    {
     "name": "stdout",
     "output_type": "stream",
     "text": [
      "32403\n"
     ]
    }
   ],
   "source": [
    "print(count)"
   ]
  },
  {
   "cell_type": "markdown",
   "id": "b4548912-637c-4713-86b4-16dd8d02d72a",
   "metadata": {},
   "source": [
    "**Contando o número de colunas em um arquivo**"
   ]
  },
  {
   "cell_type": "code",
   "execution_count": 55,
   "id": "e41ddaec-fd96-4b7e-885f-efe579388e5f",
   "metadata": {},
   "outputs": [],
   "source": [
    "f = open('arquivos/salarios.csv', 'r')\n",
    "data = f.read()\n",
    "rows = data.split('\\n')\n",
    "full_data = []"
   ]
  },
  {
   "cell_type": "code",
   "execution_count": 56,
   "id": "4b9585c0-02c5-4387-82a6-fd2cc04a83d8",
   "metadata": {},
   "outputs": [],
   "source": [
    "for row in rows:\n",
    "    split_row = row.split(',')\n",
    "    full_data.append(split_row)\n",
    "    first_row = full_data[0]\n",
    "count = 0"
   ]
  },
  {
   "cell_type": "code",
   "execution_count": 57,
   "id": "e044038b-e295-4dc8-aa0b-dd27adc8a531",
   "metadata": {},
   "outputs": [],
   "source": [
    "for column in first_row:\n",
    "    count += 1"
   ]
  },
  {
   "cell_type": "code",
   "execution_count": 58,
   "id": "91258525-7cc9-4908-8411-7fe5deecabb4",
   "metadata": {},
   "outputs": [
    {
     "name": "stdout",
     "output_type": "stream",
     "text": [
      "8\n"
     ]
    }
   ],
   "source": [
    "print(count)"
   ]
  },
  {
   "cell_type": "markdown",
   "id": "51d00119-d08d-4716-972c-a9eabf0ac808",
   "metadata": {},
   "source": [
    "**Gravando arquivo pelo  Jupyter Notebook**"
   ]
  },
  {
   "cell_type": "code",
   "execution_count": 64,
   "id": "13422bff-0e06-4b1d-a966-3a080f09225b",
   "metadata": {},
   "outputs": [
    {
     "name": "stdout",
     "output_type": "stream",
     "text": [
      "Overwriting arquivos/arquivo3.txt\n"
     ]
    }
   ],
   "source": [
    "%%writefile arquivos/arquivo3.txt\n",
    "Este arquivo foi gerado pelo Jupyter Notebook.\n",
    "Podemos gerar quantas linhas quisermos e o Jupyter grava no arquivo final."
   ]
  },
  {
   "cell_type": "code",
   "execution_count": 65,
   "id": "a1676696-aa75-435c-8b25-4b4511334496",
   "metadata": {},
   "outputs": [],
   "source": [
    "arq3 = open('arquivos/arquivo3.txt', 'r')"
   ]
  },
  {
   "cell_type": "code",
   "execution_count": 66,
   "id": "73fed699-ecf8-4ba0-bd97-3fa210c506a2",
   "metadata": {},
   "outputs": [
    {
     "data": {
      "text/plain": [
       "'Este arquivo foi gerado pelo Jupyter Notebook.\\nPodemos gerar quantas linhas quisermos e o Jupyter grava no arquivo final.\\n'"
      ]
     },
     "execution_count": 66,
     "metadata": {},
     "output_type": "execute_result"
    }
   ],
   "source": [
    "arq3.read()"
   ]
  },
  {
   "cell_type": "code",
   "execution_count": 67,
   "id": "20e8bf82-4436-4616-91da-ca37f382b774",
   "metadata": {},
   "outputs": [
    {
     "data": {
      "text/plain": [
       "''"
      ]
     },
     "execution_count": 67,
     "metadata": {},
     "output_type": "execute_result"
    }
   ],
   "source": [
    "# final do arquivo e nao ha nada para ler\n",
    "arq3.read()"
   ]
  },
  {
   "cell_type": "code",
   "execution_count": 70,
   "id": "e9a1dc7c-0058-4bbb-81bb-cd9589ea9d70",
   "metadata": {},
   "outputs": [
    {
     "data": {
      "text/plain": [
       "0"
      ]
     },
     "execution_count": 70,
     "metadata": {},
     "output_type": "execute_result"
    }
   ],
   "source": [
    "# retornando ao inicio do arquivo\n",
    "arq3.seek(0)"
   ]
  },
  {
   "cell_type": "code",
   "execution_count": 71,
   "id": "5b62830b-8bf0-4518-b8bf-4fa4658b2d7e",
   "metadata": {},
   "outputs": [
    {
     "data": {
      "text/plain": [
       "['Este arquivo foi gerado pelo Jupyter Notebook.\\n',\n",
       " 'Podemos gerar quantas linhas quisermos e o Jupyter grava no arquivo final.\\n']"
      ]
     },
     "execution_count": 71,
     "metadata": {},
     "output_type": "execute_result"
    }
   ],
   "source": [
    "arq3.seek(0)\n",
    "arq3.readlines()"
   ]
  },
  {
   "cell_type": "code",
   "execution_count": 73,
   "id": "463bcb4b-a0f6-4f7a-962e-db95f2d8e217",
   "metadata": {},
   "outputs": [
    {
     "name": "stdout",
     "output_type": "stream",
     "text": [
      "Este arquivo foi gerado pelo Jupyter Notebook.\n",
      "\n",
      "Podemos gerar quantas linhas quisermos e o Jupyter grava no arquivo final.\n",
      "\n"
     ]
    }
   ],
   "source": [
    "# podemos usar um loop para ler o arquivo\n",
    "for line in open('arquivos/arquivo3.txt'):\n",
    "    print(line)"
   ]
  }
 ],
 "metadata": {
  "kernelspec": {
   "display_name": "Python 3 (ipykernel)",
   "language": "python",
   "name": "python3"
  },
  "language_info": {
   "codemirror_mode": {
    "name": "ipython",
    "version": 3
   },
   "file_extension": ".py",
   "mimetype": "text/x-python",
   "name": "python",
   "nbconvert_exporter": "python",
   "pygments_lexer": "ipython3",
   "version": "3.12.7"
  }
 },
 "nbformat": 4,
 "nbformat_minor": 5
}
