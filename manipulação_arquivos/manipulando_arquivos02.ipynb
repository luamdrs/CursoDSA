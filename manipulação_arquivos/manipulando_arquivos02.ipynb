{
 "cells": [
  {
   "cell_type": "markdown",
   "id": "6970253d-49d2-4535-81ac-1c746b89de25",
   "metadata": {},
   "source": [
    "### Importando um Dataset com Pandas\n",
    "\n",
    "**Manipulação de Arquivos - Parte 2**"
   ]
  },
  {
   "cell_type": "code",
   "execution_count": 33,
   "id": "b8428c6d-6736-45ea-8a67-f43fc8d6164e",
   "metadata": {},
   "outputs": [],
   "source": [
    "# importando o pandas\n",
    "import pandas as pd"
   ]
  },
  {
   "cell_type": "code",
   "execution_count": 34,
   "id": "07b9ebff-0747-472a-80eb-d3a1625cfd41",
   "metadata": {},
   "outputs": [
    {
     "data": {
      "text/plain": [
       "'2.2.2'"
      ]
     },
     "execution_count": 34,
     "metadata": {},
     "output_type": "execute_result"
    }
   ],
   "source": [
    "# versão do pandas\n",
    "pd.__version__"
   ]
  },
  {
   "cell_type": "code",
   "execution_count": 35,
   "id": "9fb7b0db-b6f7-47d5-8342-f8c289c36c14",
   "metadata": {},
   "outputs": [],
   "source": [
    "# armazenando o arquivo CSV em uma var\n",
    "arquivo = 'arquivos/salarios.csv'"
   ]
  },
  {
   "cell_type": "code",
   "execution_count": 36,
   "id": "791b8e9d-7a86-4f43-a12c-1f83e20a0275",
   "metadata": {},
   "outputs": [],
   "source": [
    "# carregando e lendo o arquivo CSV e armazenando em um df\n",
    "df = pd.read_csv(arquivo)"
   ]
  },
  {
   "cell_type": "code",
   "execution_count": 37,
   "id": "c7d5c84d-2fdd-42ef-9d02-570800fbee4c",
   "metadata": {},
   "outputs": [
    {
     "data": {
      "text/html": [
       "<div>\n",
       "<style scoped>\n",
       "    .dataframe tbody tr th:only-of-type {\n",
       "        vertical-align: middle;\n",
       "    }\n",
       "\n",
       "    .dataframe tbody tr th {\n",
       "        vertical-align: top;\n",
       "    }\n",
       "\n",
       "    .dataframe thead th {\n",
       "        text-align: right;\n",
       "    }\n",
       "</style>\n",
       "<table border=\"1\" class=\"dataframe\">\n",
       "  <thead>\n",
       "    <tr style=\"text-align: right;\">\n",
       "      <th></th>\n",
       "      <th>Name</th>\n",
       "      <th>Job Titles</th>\n",
       "      <th>Department</th>\n",
       "      <th>Full or Part-Time</th>\n",
       "      <th>Salary or Hourly</th>\n",
       "      <th>Typical Hours</th>\n",
       "      <th>Annual Salary</th>\n",
       "      <th>Hourly Rate</th>\n",
       "    </tr>\n",
       "  </thead>\n",
       "  <tbody>\n",
       "    <tr>\n",
       "      <th>0</th>\n",
       "      <td>GARCIA, CHRISTOPHER A</td>\n",
       "      <td>CLERK - BD OF ELECTIONS</td>\n",
       "      <td>BOARD OF ELECTION COMMISSIONERS</td>\n",
       "      <td>F</td>\n",
       "      <td>SALARY</td>\n",
       "      <td>NaN</td>\n",
       "      <td>34176.0</td>\n",
       "      <td>NaN</td>\n",
       "    </tr>\n",
       "    <tr>\n",
       "      <th>1</th>\n",
       "      <td>ASHFORD, MARQUISHA D</td>\n",
       "      <td>INQUIRY AIDE III</td>\n",
       "      <td>OFFICE OF PUBLIC SAFETY ADMINISTRATION</td>\n",
       "      <td>F</td>\n",
       "      <td>SALARY</td>\n",
       "      <td>NaN</td>\n",
       "      <td>46056.0</td>\n",
       "      <td>NaN</td>\n",
       "    </tr>\n",
       "    <tr>\n",
       "      <th>2</th>\n",
       "      <td>MATHIS, DESIREE</td>\n",
       "      <td>PERSONNEL ASSISTANT</td>\n",
       "      <td>OFFICE OF PUBLIC SAFETY ADMINISTRATION</td>\n",
       "      <td>F</td>\n",
       "      <td>SALARY</td>\n",
       "      <td>NaN</td>\n",
       "      <td>70608.0</td>\n",
       "      <td>NaN</td>\n",
       "    </tr>\n",
       "    <tr>\n",
       "      <th>3</th>\n",
       "      <td>GRAY, DERYL R</td>\n",
       "      <td>ALDERMANIC AIDE</td>\n",
       "      <td>CITY COUNCIL</td>\n",
       "      <td>P</td>\n",
       "      <td>HOURLY</td>\n",
       "      <td>20.0</td>\n",
       "      <td>NaN</td>\n",
       "      <td>25.0</td>\n",
       "    </tr>\n",
       "    <tr>\n",
       "      <th>4</th>\n",
       "      <td>MACK, QIANA S</td>\n",
       "      <td>LEAVE OF ABSENCE ADMIN</td>\n",
       "      <td>OFFICE OF PUBLIC SAFETY ADMINISTRATION</td>\n",
       "      <td>F</td>\n",
       "      <td>SALARY</td>\n",
       "      <td>NaN</td>\n",
       "      <td>66684.0</td>\n",
       "      <td>NaN</td>\n",
       "    </tr>\n",
       "  </tbody>\n",
       "</table>\n",
       "</div>"
      ],
      "text/plain": [
       "                    Name               Job Titles  \\\n",
       "0  GARCIA, CHRISTOPHER A  CLERK - BD OF ELECTIONS   \n",
       "1   ASHFORD, MARQUISHA D         INQUIRY AIDE III   \n",
       "2        MATHIS, DESIREE      PERSONNEL ASSISTANT   \n",
       "3          GRAY, DERYL R          ALDERMANIC AIDE   \n",
       "4          MACK, QIANA S   LEAVE OF ABSENCE ADMIN   \n",
       "\n",
       "                               Department Full or Part-Time Salary or Hourly  \\\n",
       "0         BOARD OF ELECTION COMMISSIONERS                 F           SALARY   \n",
       "1  OFFICE OF PUBLIC SAFETY ADMINISTRATION                 F           SALARY   \n",
       "2  OFFICE OF PUBLIC SAFETY ADMINISTRATION                 F           SALARY   \n",
       "3                            CITY COUNCIL                 P           HOURLY   \n",
       "4  OFFICE OF PUBLIC SAFETY ADMINISTRATION                 F           SALARY   \n",
       "\n",
       "   Typical Hours  Annual Salary  Hourly Rate  \n",
       "0            NaN        34176.0          NaN  \n",
       "1            NaN        46056.0          NaN  \n",
       "2            NaN        70608.0          NaN  \n",
       "3           20.0            NaN         25.0  \n",
       "4            NaN        66684.0          NaN  "
      ]
     },
     "execution_count": 37,
     "metadata": {},
     "output_type": "execute_result"
    }
   ],
   "source": [
    "# lendo as 5 primeiras linhas (head)\n",
    "df.head()"
   ]
  },
  {
   "cell_type": "code",
   "execution_count": 38,
   "id": "3f6b541b-8559-49f4-8ec3-7b3ce63d8b86",
   "metadata": {},
   "outputs": [
    {
     "name": "stdout",
     "output_type": "stream",
     "text": [
      "<class 'pandas.core.frame.DataFrame'>\n",
      "RangeIndex: 32401 entries, 0 to 32400\n",
      "Data columns (total 8 columns):\n",
      " #   Column             Non-Null Count  Dtype  \n",
      "---  ------             --------------  -----  \n",
      " 0   Name               32401 non-null  object \n",
      " 1   Job Titles         32401 non-null  object \n",
      " 2   Department         32401 non-null  object \n",
      " 3   Full or Part-Time  32400 non-null  object \n",
      " 4   Salary or Hourly   32401 non-null  object \n",
      " 5   Typical Hours      7507 non-null   float64\n",
      " 6   Annual Salary      24894 non-null  float64\n",
      " 7   Hourly Rate        7507 non-null   float64\n",
      "dtypes: float64(3), object(5)\n",
      "memory usage: 2.0+ MB\n"
     ]
    }
   ],
   "source": [
    "# exibe informacoes sobre o df, como os tipos de dados e os valores ausentes\n",
    "df.info()"
   ]
  },
  {
   "cell_type": "code",
   "execution_count": 39,
   "id": "4e1d5db4-df64-4b8d-8a15-b2058bd70829",
   "metadata": {},
   "outputs": [
    {
     "data": {
      "text/plain": [
       "Name                     0\n",
       "Job Titles               0\n",
       "Department               0\n",
       "Full or Part-Time        1\n",
       "Salary or Hourly         0\n",
       "Typical Hours        24894\n",
       "Annual Salary         7507\n",
       "Hourly Rate          24894\n",
       "dtype: int64"
      ]
     },
     "execution_count": 39,
     "metadata": {},
     "output_type": "execute_result"
    }
   ],
   "source": [
    "# retorna um df booleano indicando valores nulos + sum() para somar os valores ausentes por coluna\n",
    "df.isnull().sum()"
   ]
  },
  {
   "cell_type": "code",
   "execution_count": 40,
   "id": "5762c6d0-9398-4bc9-bfc5-f785ace0b0d1",
   "metadata": {},
   "outputs": [],
   "source": [
    "# substitui valores nulos com um valor específico, nesse caso com o valor 0\n",
    "# df.fillna(0)"
   ]
  },
  {
   "cell_type": "code",
   "execution_count": 41,
   "id": "c1a49335-c2a3-4b05-a150-1c7cb2088647",
   "metadata": {},
   "outputs": [],
   "source": [
    "# remove linhas ou colunas que tenham valores nulos (passamos o parametro, se for linha axis=0, se for coluna axix=1)\n",
    "# df.dropna()"
   ]
  },
  {
   "cell_type": "code",
   "execution_count": 45,
   "id": "035a7894-6909-433b-a5d4-c66bc0bfce80",
   "metadata": {},
   "outputs": [
    {
     "data": {
      "text/html": [
       "<div>\n",
       "<style scoped>\n",
       "    .dataframe tbody tr th:only-of-type {\n",
       "        vertical-align: middle;\n",
       "    }\n",
       "\n",
       "    .dataframe tbody tr th {\n",
       "        vertical-align: top;\n",
       "    }\n",
       "\n",
       "    .dataframe thead th {\n",
       "        text-align: right;\n",
       "    }\n",
       "</style>\n",
       "<table border=\"1\" class=\"dataframe\">\n",
       "  <thead>\n",
       "    <tr style=\"text-align: right;\">\n",
       "      <th></th>\n",
       "      <th>Name</th>\n",
       "      <th>Job Titles</th>\n",
       "      <th>Department</th>\n",
       "      <th>Full or Part-Time</th>\n",
       "      <th>Salary or Hourly</th>\n",
       "      <th>Typical Hours</th>\n",
       "      <th>Annual Salary</th>\n",
       "      <th>H.R.</th>\n",
       "    </tr>\n",
       "  </thead>\n",
       "  <tbody>\n",
       "    <tr>\n",
       "      <th>0</th>\n",
       "      <td>GARCIA, CHRISTOPHER A</td>\n",
       "      <td>CLERK - BD OF ELECTIONS</td>\n",
       "      <td>BOARD OF ELECTION COMMISSIONERS</td>\n",
       "      <td>F</td>\n",
       "      <td>SALARY</td>\n",
       "      <td>NaN</td>\n",
       "      <td>34176.0</td>\n",
       "      <td>NaN</td>\n",
       "    </tr>\n",
       "    <tr>\n",
       "      <th>1</th>\n",
       "      <td>ASHFORD, MARQUISHA D</td>\n",
       "      <td>INQUIRY AIDE III</td>\n",
       "      <td>OFFICE OF PUBLIC SAFETY ADMINISTRATION</td>\n",
       "      <td>F</td>\n",
       "      <td>SALARY</td>\n",
       "      <td>NaN</td>\n",
       "      <td>46056.0</td>\n",
       "      <td>NaN</td>\n",
       "    </tr>\n",
       "  </tbody>\n",
       "</table>\n",
       "</div>"
      ],
      "text/plain": [
       "                    Name               Job Titles  \\\n",
       "0  GARCIA, CHRISTOPHER A  CLERK - BD OF ELECTIONS   \n",
       "1   ASHFORD, MARQUISHA D         INQUIRY AIDE III   \n",
       "\n",
       "                               Department Full or Part-Time Salary or Hourly  \\\n",
       "0         BOARD OF ELECTION COMMISSIONERS                 F           SALARY   \n",
       "1  OFFICE OF PUBLIC SAFETY ADMINISTRATION                 F           SALARY   \n",
       "\n",
       "   Typical Hours  Annual Salary  H.R.  \n",
       "0            NaN        34176.0   NaN  \n",
       "1            NaN        46056.0   NaN  "
      ]
     },
     "execution_count": 45,
     "metadata": {},
     "output_type": "execute_result"
    }
   ],
   "source": [
    "# renomeia colunas ou indices do df\n",
    "df.rename(columns={'Hourly Rate': 'H.R.'}, inplace=True)\n",
    "df.head(2)"
   ]
  },
  {
   "cell_type": "code",
   "execution_count": 50,
   "id": "b16cf738-a4da-4cc1-a44b-c1eeef46c4bf",
   "metadata": {},
   "outputs": [
    {
     "data": {
      "text/plain": [
       "Job Titles\n",
       "A/SUPRV REDISTRICTING                 66528.000000\n",
       "ACCESSIBILITY INSPECTOR               82644.000000\n",
       "ACCIDENT ADJUSTER                     74407.200000\n",
       "ACCOUNTANT                            95505.230769\n",
       "ACCOUNTANT I                          87762.000000\n",
       "                                         ...      \n",
       "WEB DEVELOPER/ADMINISTRATOR (OIG)    100476.000000\n",
       "WINDOW WASHER                                  NaN\n",
       "WORKERS COMPENSATION CLAIMS COORD     79212.000000\n",
       "YOUTH SERVICES COORD                  96872.000000\n",
       "ZONING INVESTIGATOR                  113956.000000\n",
       "Name: Annual Salary, Length: 1149, dtype: float64"
      ]
     },
     "execution_count": 50,
     "metadata": {},
     "output_type": "execute_result"
    }
   ],
   "source": [
    "# agrupa dados por uma ou mais colunas pra realizar calculos agregados, nesse caso quero saber a media de cada job\n",
    "df.groupby('Job Titles')['Annual Salary'].mean()"
   ]
  },
  {
   "cell_type": "code",
   "execution_count": 51,
   "id": "41fb25f0-3a01-4777-ab91-0a189fc8f20f",
   "metadata": {},
   "outputs": [
    {
     "data": {
      "text/html": [
       "<div>\n",
       "<style scoped>\n",
       "    .dataframe tbody tr th:only-of-type {\n",
       "        vertical-align: middle;\n",
       "    }\n",
       "\n",
       "    .dataframe tbody tr th {\n",
       "        vertical-align: top;\n",
       "    }\n",
       "\n",
       "    .dataframe thead th {\n",
       "        text-align: right;\n",
       "    }\n",
       "</style>\n",
       "<table border=\"1\" class=\"dataframe\">\n",
       "  <thead>\n",
       "    <tr style=\"text-align: right;\">\n",
       "      <th></th>\n",
       "      <th>Typical Hours</th>\n",
       "      <th>Annual Salary</th>\n",
       "      <th>H.R.</th>\n",
       "    </tr>\n",
       "  </thead>\n",
       "  <tbody>\n",
       "    <tr>\n",
       "      <th>count</th>\n",
       "      <td>7507.000000</td>\n",
       "      <td>24894.000000</td>\n",
       "      <td>7507.000000</td>\n",
       "    </tr>\n",
       "    <tr>\n",
       "      <th>mean</th>\n",
       "      <td>36.764353</td>\n",
       "      <td>104692.550995</td>\n",
       "      <td>43.958086</td>\n",
       "    </tr>\n",
       "    <tr>\n",
       "      <th>std</th>\n",
       "      <td>7.739911</td>\n",
       "      <td>25768.993058</td>\n",
       "      <td>13.882757</td>\n",
       "    </tr>\n",
       "    <tr>\n",
       "      <th>min</th>\n",
       "      <td>10.000000</td>\n",
       "      <td>31992.000000</td>\n",
       "      <td>4.000000</td>\n",
       "    </tr>\n",
       "    <tr>\n",
       "      <th>25%</th>\n",
       "      <td>40.000000</td>\n",
       "      <td>88746.000000</td>\n",
       "      <td>37.780000</td>\n",
       "    </tr>\n",
       "    <tr>\n",
       "      <th>50%</th>\n",
       "      <td>40.000000</td>\n",
       "      <td>102870.000000</td>\n",
       "      <td>47.230000</td>\n",
       "    </tr>\n",
       "    <tr>\n",
       "      <th>75%</th>\n",
       "      <td>40.000000</td>\n",
       "      <td>118128.000000</td>\n",
       "      <td>52.000000</td>\n",
       "    </tr>\n",
       "    <tr>\n",
       "      <th>max</th>\n",
       "      <td>40.000000</td>\n",
       "      <td>297084.000000</td>\n",
       "      <td>120.000000</td>\n",
       "    </tr>\n",
       "  </tbody>\n",
       "</table>\n",
       "</div>"
      ],
      "text/plain": [
       "       Typical Hours  Annual Salary         H.R.\n",
       "count    7507.000000   24894.000000  7507.000000\n",
       "mean       36.764353  104692.550995    43.958086\n",
       "std         7.739911   25768.993058    13.882757\n",
       "min        10.000000   31992.000000     4.000000\n",
       "25%        40.000000   88746.000000    37.780000\n",
       "50%        40.000000  102870.000000    47.230000\n",
       "75%        40.000000  118128.000000    52.000000\n",
       "max        40.000000  297084.000000   120.000000"
      ]
     },
     "execution_count": 51,
     "metadata": {},
     "output_type": "execute_result"
    }
   ],
   "source": [
    "# estatisticas resumidas, como: media, mediana, desvio padrao, min. e max, etc\n",
    "df.describe()"
   ]
  },
  {
   "cell_type": "code",
   "execution_count": 54,
   "id": "4499a21b-f8c7-4da8-8624-b550a8169fa1",
   "metadata": {},
   "outputs": [
    {
     "data": {
      "text/plain": [
       "104692.55099542058"
      ]
     },
     "execution_count": 54,
     "metadata": {},
     "output_type": "execute_result"
    }
   ],
   "source": [
    "# calcula a media de uma coluna ou de todas as colunas numericas\n",
    "df['Annual Salary'].mean()"
   ]
  },
  {
   "cell_type": "code",
   "execution_count": 55,
   "id": "a243fb5c-2330-4cfa-8370-8e726638651b",
   "metadata": {},
   "outputs": [
    {
     "data": {
      "text/plain": [
       "102870.0"
      ]
     },
     "execution_count": 55,
     "metadata": {},
     "output_type": "execute_result"
    }
   ],
   "source": [
    "# retorna a mediana dos valores\n",
    "df['Annual Salary'].median()"
   ]
  },
  {
   "cell_type": "code",
   "execution_count": 59,
   "id": "3cfb92b7-2ed5-489e-8a61-367ad8651cf8",
   "metadata": {},
   "outputs": [],
   "source": [
    "# calcula a correlação entre as colunas numericas\n",
    "# df.corr()"
   ]
  },
  {
   "cell_type": "code",
   "execution_count": 62,
   "id": "c50d4961-fc1d-4dd3-b335-7b5ef51d5a89",
   "metadata": {
    "scrolled": true
   },
   "outputs": [
    {
     "data": {
      "text/plain": [
       "Annual Salary\n",
       "102870.0    2554\n",
       "114264.0     977\n",
       "117564.0     825\n",
       "88746.0      776\n",
       "106482.0     757\n",
       "            ... \n",
       "81324.0        1\n",
       "95484.0        1\n",
       "89160.0        1\n",
       "197604.0       1\n",
       "96252.0        1\n",
       "Name: count, Length: 860, dtype: int64"
      ]
     },
     "execution_count": 62,
     "metadata": {},
     "output_type": "execute_result"
    }
   ],
   "source": [
    "# conta a frequencia de valores unicos em uma coluna\n",
    "df['Annual Salary'].value_counts()"
   ]
  }
 ],
 "metadata": {
  "kernelspec": {
   "display_name": "Python 3 (ipykernel)",
   "language": "python",
   "name": "python3"
  },
  "language_info": {
   "codemirror_mode": {
    "name": "ipython",
    "version": 3
   },
   "file_extension": ".py",
   "mimetype": "text/x-python",
   "name": "python",
   "nbconvert_exporter": "python",
   "pygments_lexer": "ipython3",
   "version": "3.12.7"
  }
 },
 "nbformat": 4,
 "nbformat_minor": 5
}
