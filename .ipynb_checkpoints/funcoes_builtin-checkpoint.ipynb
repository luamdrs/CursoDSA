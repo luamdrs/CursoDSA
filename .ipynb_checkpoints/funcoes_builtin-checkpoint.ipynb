{
 "cells": [
  {
   "cell_type": "markdown",
   "id": "2609fbf2-d04b-46ec-84ad-90f6507bd557",
   "metadata": {},
   "source": [
    "# Função Map"
   ]
  },
  {
   "cell_type": "markdown",
   "id": "87d79abf-4c73-466d-8d9e-152f2a6112a2",
   "metadata": {},
   "source": [
    "**É uma função que aplica uma determinada função a cada elemento de uma estrutura de dados iterável (lista, tupla ou outro objeto iterável).\n",
    "Essa função retorna um objeto que pode ser convertido em outra estrutura de dados, como uma lista, se necessário.**"
   ]
  },
  {
   "cell_type": "code",
   "execution_count": 73,
   "id": "1e3ac37c-30a3-4fa7-8bd8-1a9e2847edc3",
   "metadata": {},
   "outputs": [],
   "source": [
    "# função python que retorna um número ao quadrado\n",
    "def potencia(x):\n",
    "    return x ** 2"
   ]
  },
  {
   "cell_type": "code",
   "execution_count": 74,
   "id": "32cced73-30bd-49b7-8cc4-9c5e0234675d",
   "metadata": {},
   "outputs": [],
   "source": [
    "numeros = [1, 2, 3, 4, 5]"
   ]
  },
  {
   "cell_type": "code",
   "execution_count": 75,
   "id": "c02d709d-2a4a-43a9-b936-a73a55aaa5f9",
   "metadata": {},
   "outputs": [],
   "source": [
    "numeros_ao_quadrado = list(map(potencia, numeros))"
   ]
  },
  {
   "cell_type": "code",
   "execution_count": 76,
   "id": "24552cb3-14d0-4517-9a0b-74beda686ad1",
   "metadata": {},
   "outputs": [
    {
     "name": "stdout",
     "output_type": "stream",
     "text": [
      "[1, 4, 9, 16, 25]\n"
     ]
    }
   ],
   "source": [
    "print(numeros_ao_quadrado)"
   ]
  },
  {
   "cell_type": "code",
   "execution_count": 77,
   "id": "ab6f977d-fdf2-4a93-8232-c79c91ecc540",
   "metadata": {},
   "outputs": [],
   "source": [
    "# criando duas funçoes \n",
    "\n",
    "# funçao 1 - recebe uma temperatura como parametro e retorna a temperatura em Fahrenheit\n",
    "def fahrenheit(T):\n",
    "    return ((float(9) / 5) * T + 32)\n",
    "\n",
    "# funçao 2 - recebe uma temperatura como parametro e retorna a temperatura em celsius\n",
    "def celsius(T):\n",
    "    return (float(5) / 9) * (T - 32)"
   ]
  },
  {
   "cell_type": "code",
   "execution_count": 78,
   "id": "9894cff1-971f-41fd-ae2a-699949a3df7a",
   "metadata": {},
   "outputs": [],
   "source": [
    "# criando uma lista\n",
    "temperaturas = [0, 22.5, 40, 100]"
   ]
  },
  {
   "cell_type": "code",
   "execution_count": 79,
   "id": "c70bd0a4-da01-481d-9fe8-1deeaaa6b952",
   "metadata": {},
   "outputs": [
    {
     "data": {
      "text/plain": [
       "<map at 0x257db983b20>"
      ]
     },
     "execution_count": 79,
     "metadata": {},
     "output_type": "execute_result"
    }
   ],
   "source": [
    "# aplicando a funçao a cada elemento da lista de temperaturas, em python 3 a função map() retorna um iterator\n",
    "map(fahrenheit, temperaturas)"
   ]
  },
  {
   "cell_type": "code",
   "execution_count": 80,
   "id": "89cf1bd3-4ad0-462d-9d65-187ed8fa45ec",
   "metadata": {},
   "outputs": [
    {
     "data": {
      "text/plain": [
       "[32.0, 72.5, 104.0, 212.0]"
      ]
     },
     "execution_count": 80,
     "metadata": {},
     "output_type": "execute_result"
    }
   ],
   "source": [
    "# funçao map() retornando a lista de temperaturas convertidas em fahrenheit\n",
    "list(map(fahrenheit, temperaturas))"
   ]
  },
  {
   "cell_type": "code",
   "execution_count": 81,
   "id": "7ac92d23-66d3-4b18-843f-a8c7f55d30e0",
   "metadata": {},
   "outputs": [
    {
     "name": "stdout",
     "output_type": "stream",
     "text": [
      "32.0\n",
      "72.5\n",
      "104.0\n",
      "212.0\n"
     ]
    }
   ],
   "source": [
    "# usando um loop for para imprimir o resultado da funçao map()\n",
    "for temp in map(fahrenheit, temperaturas):\n",
    "    print(temp)"
   ]
  },
  {
   "cell_type": "code",
   "execution_count": 82,
   "id": "d68ac839-a0d2-4f7a-bd82-cb819952876c",
   "metadata": {},
   "outputs": [
    {
     "data": {
      "text/plain": [
       "<map at 0x257db9826b0>"
      ]
     },
     "execution_count": 82,
     "metadata": {},
     "output_type": "execute_result"
    }
   ],
   "source": [
    "# convertendo para celsius\n",
    "map(celsius, temperaturas)"
   ]
  },
  {
   "cell_type": "code",
   "execution_count": 83,
   "id": "1b12902c-29de-4596-8e4e-93abfb17251a",
   "metadata": {},
   "outputs": [
    {
     "data": {
      "text/plain": [
       "[-17.77777777777778, -5.277777777777778, 4.444444444444445, 37.77777777777778]"
      ]
     },
     "execution_count": 83,
     "metadata": {},
     "output_type": "execute_result"
    }
   ],
   "source": [
    "list(map(celsius, temperaturas))"
   ]
  },
  {
   "cell_type": "code",
   "execution_count": 84,
   "id": "82faa7a9-bea6-4d9f-bc4e-4b293b53fe9b",
   "metadata": {},
   "outputs": [
    {
     "data": {
      "text/plain": [
       "<map at 0x257db980be0>"
      ]
     },
     "execution_count": 84,
     "metadata": {},
     "output_type": "execute_result"
    }
   ],
   "source": [
    "# usando a expressao lambda\n",
    "map(lambda x: (5.0/9) * (x - 32), temperaturas)"
   ]
  },
  {
   "cell_type": "code",
   "execution_count": 85,
   "id": "32f82241-aa83-4be3-9418-e5e4d619333c",
   "metadata": {},
   "outputs": [
    {
     "data": {
      "text/plain": [
       "[-17.77777777777778, -5.277777777777778, 4.444444444444445, 37.77777777777778]"
      ]
     },
     "execution_count": 85,
     "metadata": {},
     "output_type": "execute_result"
    }
   ],
   "source": [
    "list(map(lambda x: (5.0/9) * (x - 32), temperaturas))"
   ]
  },
  {
   "cell_type": "code",
   "execution_count": 86,
   "id": "37cc22c4-f342-4fae-86b9-4f8aa578eb56",
   "metadata": {},
   "outputs": [],
   "source": [
    "# somando os elementos de 2 listas\n",
    "a = [1, 2, 3, 4]\n",
    "b = [5, 6, 7, 8]"
   ]
  },
  {
   "cell_type": "code",
   "execution_count": 87,
   "id": "5e654b4b-f0ba-433c-b13b-361af31f567a",
   "metadata": {},
   "outputs": [
    {
     "data": {
      "text/plain": [
       "[6, 8, 10, 12]"
      ]
     },
     "execution_count": 87,
     "metadata": {},
     "output_type": "execute_result"
    }
   ],
   "source": [
    "list(map(lambda x, y: x + y, a, b))"
   ]
  },
  {
   "cell_type": "code",
   "execution_count": 88,
   "id": "157a848b-e9c7-4c65-b7b7-faf99832671b",
   "metadata": {},
   "outputs": [],
   "source": [
    "# somando os elementos de 3 listas\n",
    "a = [12, 2, 45, 63, 23]\n",
    "b = [24, 1, 7, 25, 6]\n",
    "c = [15, 14, 39, 35, 0]"
   ]
  },
  {
   "cell_type": "code",
   "execution_count": 89,
   "id": "a4cf9383-db19-444d-bc3e-3eee3e53dc12",
   "metadata": {},
   "outputs": [
    {
     "data": {
      "text/plain": [
       "[51, 17, 91, 123, 29]"
      ]
     },
     "execution_count": 89,
     "metadata": {},
     "output_type": "execute_result"
    }
   ],
   "source": [
    "list(map(lambda x, y, z : x + y + z, a, b, c))"
   ]
  },
  {
   "cell_type": "markdown",
   "id": "3067a76d-8373-4a84-902b-31469af06e0c",
   "metadata": {},
   "source": [
    "# Função reduce"
   ]
  },
  {
   "cell_type": "markdown",
   "id": "25316461-5555-4ce1-86f6-ab26c837ce1a",
   "metadata": {},
   "source": [
    "**É uma função da biblioteca functools que aplica uma determinada função binária a pares consecutivos de elementos em uma estrutura de dados iterável (como uma lista, tupla ou outro objeto iterável), reduzindo-a a um único valor.**"
   ]
  },
  {
   "cell_type": "code",
   "execution_count": 90,
   "id": "9a3cab51-741b-4efe-aa37-1385920e8625",
   "metadata": {},
   "outputs": [],
   "source": [
    "# importando a função reduce\n",
    "from functools import reduce"
   ]
  },
  {
   "cell_type": "code",
   "execution_count": 91,
   "id": "62c23d67-d646-48eb-91e1-11e33fdbbe57",
   "metadata": {},
   "outputs": [],
   "source": [
    "from IPython.display import Image\n",
    "# Image('arquivos/reduce.png')"
   ]
  },
  {
   "cell_type": "code",
   "execution_count": 92,
   "id": "6a5c54bb-2bc5-45bb-a9e2-a250be8c7962",
   "metadata": {},
   "outputs": [],
   "source": [
    "# criando uma lista\n",
    "lista = [47, 11, 42, 13]"
   ]
  },
  {
   "cell_type": "code",
   "execution_count": 93,
   "id": "845d2670-bb54-43a9-8fc7-99b26138a332",
   "metadata": {},
   "outputs": [
    {
     "data": {
      "text/plain": [
       "[47, 11, 42, 13]"
      ]
     },
     "execution_count": 93,
     "metadata": {},
     "output_type": "execute_result"
    }
   ],
   "source": [
    "lista"
   ]
  },
  {
   "cell_type": "code",
   "execution_count": 94,
   "id": "a6777f94-3a40-48a6-8935-4600f947c749",
   "metadata": {},
   "outputs": [],
   "source": [
    "# função de soma\n",
    "def soma(a, b):\n",
    "    x = a + b\n",
    "    return x"
   ]
  },
  {
   "cell_type": "code",
   "execution_count": 95,
   "id": "64ecced0-2370-4896-bc88-7a0d97b888e9",
   "metadata": {},
   "outputs": [
    {
     "data": {
      "text/plain": [
       "113"
      ]
     },
     "execution_count": 95,
     "metadata": {},
     "output_type": "execute_result"
    }
   ],
   "source": [
    "# usando reduce com uma função e uma lista, a função vai retornar o valor máximo\n",
    "reduce(soma, lista)"
   ]
  },
  {
   "cell_type": "code",
   "execution_count": 96,
   "id": "eb532651-17e5-4eee-aa21-97dca90a7870",
   "metadata": {},
   "outputs": [],
   "source": [
    "# criando uma lista \n",
    "lst = [47, 11, 42, 13]"
   ]
  },
  {
   "cell_type": "code",
   "execution_count": 97,
   "id": "f3cce506-3ad4-4f5a-9a00-ad4616024957",
   "metadata": {},
   "outputs": [
    {
     "data": {
      "text/plain": [
       "113"
      ]
     },
     "execution_count": 97,
     "metadata": {},
     "output_type": "execute_result"
    }
   ],
   "source": [
    "reduce(lambda x, y: x + y, lst)"
   ]
  },
  {
   "cell_type": "code",
   "execution_count": 98,
   "id": "1987bb80-704b-426a-95f9-769351a4b19f",
   "metadata": {},
   "outputs": [],
   "source": [
    "# podemos atribuir a expressão lambda a uma variavel\n",
    "max_find2 = lambda a, b: a if (a > b) else b"
   ]
  },
  {
   "cell_type": "code",
   "execution_count": 99,
   "id": "29d60d23-a865-479f-93a0-fe7dfc642b08",
   "metadata": {},
   "outputs": [
    {
     "data": {
      "text/plain": [
       "function"
      ]
     },
     "execution_count": 99,
     "metadata": {},
     "output_type": "execute_result"
    }
   ],
   "source": [
    "type(max_find2)"
   ]
  },
  {
   "cell_type": "code",
   "execution_count": 100,
   "id": "abb4bd46-919a-48a2-b2d4-ab391491688e",
   "metadata": {},
   "outputs": [
    {
     "data": {
      "text/plain": [
       "47"
      ]
     },
     "execution_count": 100,
     "metadata": {},
     "output_type": "execute_result"
    }
   ],
   "source": [
    "# reduzindo a lista até o valor maximo, atraves da função criada com a expressão lamba\n",
    "reduce(max_find2, lst)"
   ]
  },
  {
   "cell_type": "markdown",
   "id": "c910636a-f3ae-4ae8-9e79-4f993abe106b",
   "metadata": {},
   "source": [
    "# Função filter "
   ]
  },
  {
   "cell_type": "markdown",
   "id": "0f5f28dd-56bf-4542-a59f-4b976a339a78",
   "metadata": {},
   "source": [
    "**É uma função que filtra elementos de uma estrutura de dados iterável (como uma lista, tupla ou outro objeto iterável) com base em uma determinada condição. A função filter() retorna um objeto filtro, que pode ser convertido em outra estrutura de dados, como uma lista, se necessário.**"
   ]
  },
  {
   "cell_type": "code",
   "execution_count": 101,
   "id": "0260f3c0-cb82-43b7-a85a-455c74cc3305",
   "metadata": {},
   "outputs": [],
   "source": [
    "# criando uma função\n",
    "def verificaPar(num):\n",
    "    if num % 2 == 0:\n",
    "        return True\n",
    "    else:\n",
    "        return False"
   ]
  },
  {
   "cell_type": "code",
   "execution_count": 102,
   "id": "9012fb35-721b-4649-9580-acbb513fec8b",
   "metadata": {},
   "outputs": [
    {
     "data": {
      "text/plain": [
       "True"
      ]
     },
     "execution_count": 102,
     "metadata": {},
     "output_type": "execute_result"
    }
   ],
   "source": [
    "# chaamdno a funcao e passando um numero como parametro\n",
    "verificaPar(2)"
   ]
  },
  {
   "cell_type": "code",
   "execution_count": 103,
   "id": "85a6dab6-a792-4183-bfaf-d0468f4d3d0e",
   "metadata": {},
   "outputs": [
    {
     "data": {
      "text/plain": [
       "False"
      ]
     },
     "execution_count": 103,
     "metadata": {},
     "output_type": "execute_result"
    }
   ],
   "source": [
    "verificaPar(3)"
   ]
  },
  {
   "cell_type": "code",
   "execution_count": 104,
   "id": "66e86aea-b655-4655-8065-1b487822bec5",
   "metadata": {},
   "outputs": [],
   "source": [
    "lista = [0, 1, 2, 3, 4, 5, 6, 7, 8, 9, 10]"
   ]
  },
  {
   "cell_type": "code",
   "execution_count": 105,
   "id": "7e141724-155e-4e1d-83f1-91c7c6c0061d",
   "metadata": {},
   "outputs": [
    {
     "data": {
      "text/plain": [
       "[0, 2, 4, 6, 8, 10]"
      ]
     },
     "execution_count": 105,
     "metadata": {},
     "output_type": "execute_result"
    }
   ],
   "source": [
    "list(filter(verificaPar, lista))"
   ]
  },
  {
   "cell_type": "code",
   "execution_count": 106,
   "id": "2acf789f-af60-4ab0-93c8-c4405dba9e11",
   "metadata": {},
   "outputs": [
    {
     "data": {
      "text/plain": [
       "[0, 2, 4, 6, 8, 10]"
      ]
     },
     "execution_count": 106,
     "metadata": {},
     "output_type": "execute_result"
    }
   ],
   "source": [
    "# caso nao queira utilizar a função\n",
    "list(filter(lambda x: x % 2 == 0, lista))"
   ]
  },
  {
   "cell_type": "code",
   "execution_count": 107,
   "id": "5143f796-c3bb-4a38-90ce-eab164663d2d",
   "metadata": {},
   "outputs": [
    {
     "data": {
      "text/plain": [
       "[9, 10]"
      ]
     },
     "execution_count": 107,
     "metadata": {},
     "output_type": "execute_result"
    }
   ],
   "source": [
    "# verificando quais o numeros maiores que 8 na lista, utilizadno o lambda\n",
    "list(filter(lambda num: num > 8, lista))"
   ]
  },
  {
   "cell_type": "markdown",
   "id": "6a7f724f-8132-4fac-9480-30c7622d8edf",
   "metadata": {},
   "source": [
    "# Função Zip"
   ]
  },
  {
   "cell_type": "markdown",
   "id": "bca7a307-cb7e-47e4-9eba-bc87baf75dd5",
   "metadata": {},
   "source": [
    "**É uma função que agrupa elementos de múltiplas estruturas de dados iteráveis (como lista, tuplas ou outros objetos iteráveis) juntos em pares. A função zip() retorna um objeto zip, que pode ser convertido em outra estrutura de dados, como uma lista ou dicionário, se necessário.**"
   ]
  },
  {
   "cell_type": "code",
   "execution_count": 108,
   "id": "042fd576-df22-4240-9e74-540b328e42f7",
   "metadata": {},
   "outputs": [],
   "source": [
    "# criando duas listas\n",
    "x = [1, 2, 3]\n",
    "y = [4, 5, 6]"
   ]
  },
  {
   "cell_type": "code",
   "execution_count": 109,
   "id": "9ed41dd8-0f3d-4036-8826-a8550c6f1e7a",
   "metadata": {},
   "outputs": [
    {
     "data": {
      "text/plain": [
       "<zip at 0x257dbc2f500>"
      ]
     },
     "execution_count": 109,
     "metadata": {},
     "output_type": "execute_result"
    }
   ],
   "source": [
    "# unindo as listas \n",
    "zip(x, y)"
   ]
  },
  {
   "cell_type": "code",
   "execution_count": 110,
   "id": "fe9cb515-96ae-46f8-bff9-bc033930c6aa",
   "metadata": {},
   "outputs": [
    {
     "data": {
      "text/plain": [
       "[(1, 4), (2, 5), (3, 6)]"
      ]
     },
     "execution_count": 110,
     "metadata": {},
     "output_type": "execute_result"
    }
   ],
   "source": [
    "# o zip retorna tuplas, neste caso uma lista de tuplas\n",
    "list(zip(x, y))"
   ]
  },
  {
   "cell_type": "code",
   "execution_count": 111,
   "id": "48ee10d5-791c-439e-b695-7379d588873a",
   "metadata": {},
   "outputs": [
    {
     "data": {
      "text/plain": [
       "[('A', 'x'), ('B', 'y')]"
      ]
     },
     "execution_count": 111,
     "metadata": {},
     "output_type": "execute_result"
    }
   ],
   "source": [
    "# atencao quando as sequencias tiverem numero diferente de elementos\n",
    "list(zip('ABCD', 'xy'))"
   ]
  },
  {
   "cell_type": "code",
   "execution_count": 112,
   "id": "aaee140c-fc47-4f35-b8c7-d921e00ef38d",
   "metadata": {},
   "outputs": [],
   "source": [
    "# criando duas listas\n",
    "a = [1, 2, 3]\n",
    "b = [4, 5, 6, 7, 8]"
   ]
  },
  {
   "cell_type": "code",
   "execution_count": 113,
   "id": "2f639692-3f09-414b-9dc0-48c72499ff5b",
   "metadata": {},
   "outputs": [
    {
     "data": {
      "text/plain": [
       "[(1, 4), (2, 5), (3, 6)]"
      ]
     },
     "execution_count": 113,
     "metadata": {},
     "output_type": "execute_result"
    }
   ],
   "source": [
    "list(zip(a, b))"
   ]
  },
  {
   "cell_type": "code",
   "execution_count": 114,
   "id": "eb6c0e87-ff36-43d8-b748-60da89c3e8e8",
   "metadata": {},
   "outputs": [],
   "source": [
    "# criando 2 dicionarios\n",
    "d1 = {'a': 1, 'b': 2}\n",
    "d2 = {'c': 3, 'd': 4}"
   ]
  },
  {
   "cell_type": "code",
   "execution_count": 118,
   "id": "3c2f7b5f-9fff-48df-85da-abbdd4602002",
   "metadata": {},
   "outputs": [
    {
     "data": {
      "text/plain": [
       "[('a', 'c'), ('b', 'd')]"
      ]
     },
     "execution_count": 118,
     "metadata": {},
     "output_type": "execute_result"
    }
   ],
   "source": [
    "# zip vai unir as chaves\n",
    "list(zip(d1, d2))"
   ]
  },
  {
   "cell_type": "code",
   "execution_count": 119,
   "id": "bc58f956-a0d7-4a0e-895f-62c7403c78e5",
   "metadata": {},
   "outputs": [
    {
     "data": {
      "text/plain": [
       "[('a', 3), ('b', 4)]"
      ]
     },
     "execution_count": 119,
     "metadata": {},
     "output_type": "execute_result"
    }
   ],
   "source": [
    "# para unir os valores(itens), passamos o método values\n",
    "list(zip(d1, d2.values()))"
   ]
  },
  {
   "cell_type": "code",
   "execution_count": 122,
   "id": "ecbd9186-7275-4481-add9-2adbdcd5280d",
   "metadata": {},
   "outputs": [],
   "source": [
    "# criando uma função para trocar valores entre 2 dicionarios \n",
    "def trocaValores(d1, d2):\n",
    "\n",
    "    dictTemp = {}\n",
    "\n",
    "    for d1key, d2val in zip(d1, d2.values()):\n",
    "        dictTemp[d1key] = d2val\n",
    "\n",
    "    return dictTemp"
   ]
  },
  {
   "cell_type": "code",
   "execution_count": 123,
   "id": "7c6c222d-4f00-46ae-b50c-bb89d5eeefed",
   "metadata": {},
   "outputs": [
    {
     "data": {
      "text/plain": [
       "{'a': 3, 'b': 4}"
      ]
     },
     "execution_count": 123,
     "metadata": {},
     "output_type": "execute_result"
    }
   ],
   "source": [
    "trocaValores(d1, d2)"
   ]
  },
  {
   "cell_type": "markdown",
   "id": "f765cb3d-1f21-47bd-ac7b-cb76b9d233d3",
   "metadata": {},
   "source": [
    "# Função enumerate"
   ]
  },
  {
   "cell_type": "markdown",
   "id": "fc5c8ea8-b52b-47e3-9719-68d7368a0524",
   "metadata": {},
   "source": [
    "**É uma função que permite iterar sobre uma estrutura de dados (como uma lista, tupla ou outro objeto iterável). A função enumerate() retorna um objeto enumerado, que pode ser usado em loops para percorrer a estrutura de dados e acessar o contador e o valor de cada elemento.**"
   ]
  },
  {
   "cell_type": "code",
   "execution_count": 125,
   "id": "c1fdac1c-478c-4d62-b581-4310e1a26e6e",
   "metadata": {},
   "outputs": [],
   "source": [
    "# criando uma lista \n",
    "seq = ['a', 'b', 'c', 'd']"
   ]
  },
  {
   "cell_type": "code",
   "execution_count": 127,
   "id": "bd02773d-e6cd-422f-a5a4-520a2484c0d5",
   "metadata": {},
   "outputs": [
    {
     "data": {
      "text/plain": [
       "[(0, 'a'), (1, 'b'), (2, 'c'), (3, 'd')]"
      ]
     },
     "execution_count": 127,
     "metadata": {},
     "output_type": "execute_result"
    }
   ],
   "source": [
    "list(enumerate(seq))"
   ]
  },
  {
   "cell_type": "code",
   "execution_count": 129,
   "id": "841586d9-337c-472b-a268-0c77e9f794f4",
   "metadata": {},
   "outputs": [
    {
     "name": "stdout",
     "output_type": "stream",
     "text": [
      "0 a\n",
      "1 b\n",
      "2 c\n",
      "3 d\n"
     ]
    }
   ],
   "source": [
    "# imprimindo os valores de uma lista com a função enumerate() e seus respectivos indices\n",
    "for indice, valor in enumerate(seq):\n",
    "    print(indice, valor)"
   ]
  },
  {
   "cell_type": "code",
   "execution_count": 130,
   "id": "77885c55-e619-4375-a87f-5f00cfcb6838",
   "metadata": {},
   "outputs": [
    {
     "name": "stdout",
     "output_type": "stream",
     "text": [
      "a\n",
      "b\n"
     ]
    }
   ],
   "source": [
    "for indice, valor in enumerate(seq):\n",
    "    if indice >= 2:\n",
    "        break\n",
    "    else:\n",
    "        print(valor)"
   ]
  },
  {
   "cell_type": "code",
   "execution_count": 131,
   "id": "01576b92-9c7d-4f94-92b6-5a6cf99cce6e",
   "metadata": {},
   "outputs": [],
   "source": [
    "lista = ['Marketing', 'Tecnologia', 'Business']"
   ]
  },
  {
   "cell_type": "code",
   "execution_count": 132,
   "id": "08613f13-c9ac-46d0-9cef-22ec7a5ee98a",
   "metadata": {},
   "outputs": [
    {
     "name": "stdout",
     "output_type": "stream",
     "text": [
      "0 Marketing\n",
      "1 Tecnologia\n",
      "2 Business\n"
     ]
    }
   ],
   "source": [
    "for i, item in enumerate(lista):\n",
    "    print(i, item)"
   ]
  },
  {
   "cell_type": "code",
   "execution_count": 133,
   "id": "baa99780-da75-4aae-b5d2-83b014d8d720",
   "metadata": {},
   "outputs": [
    {
     "name": "stdout",
     "output_type": "stream",
     "text": [
      "0 D\n",
      "1 a\n",
      "2 t\n",
      "3 a\n",
      "4  \n",
      "5 S\n",
      "6 c\n",
      "7 i\n",
      "8 e\n",
      "9 n\n",
      "10 c\n",
      "11 e\n",
      "12  \n",
      "13 A\n",
      "14 c\n",
      "15 a\n",
      "16 d\n",
      "17 e\n",
      "18 m\n",
      "19 y\n"
     ]
    }
   ],
   "source": [
    "for i, item in enumerate('Data Science Academy'):\n",
    "    print(i, item)"
   ]
  },
  {
   "cell_type": "code",
   "execution_count": 134,
   "id": "b25e6699-9cce-4b28-809d-883fc200da72",
   "metadata": {},
   "outputs": [
    {
     "name": "stdout",
     "output_type": "stream",
     "text": [
      "0 0\n",
      "1 1\n",
      "2 2\n",
      "3 3\n",
      "4 4\n",
      "5 5\n",
      "6 6\n",
      "7 7\n",
      "8 8\n",
      "9 9\n"
     ]
    }
   ],
   "source": [
    "for i, item in enumerate(range(10)):\n",
    "    print(i, item)"
   ]
  }
 ],
 "metadata": {
  "kernelspec": {
   "display_name": "Python 3 (ipykernel)",
   "language": "python",
   "name": "python3"
  },
  "language_info": {
   "codemirror_mode": {
    "name": "ipython",
    "version": 3
   },
   "file_extension": ".py",
   "mimetype": "text/x-python",
   "name": "python",
   "nbconvert_exporter": "python",
   "pygments_lexer": "ipython3",
   "version": "3.12.7"
  }
 },
 "nbformat": 4,
 "nbformat_minor": 5
}
