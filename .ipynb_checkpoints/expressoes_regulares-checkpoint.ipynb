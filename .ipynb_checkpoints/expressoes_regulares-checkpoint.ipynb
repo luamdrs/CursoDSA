{
 "cells": [
  {
   "cell_type": "markdown",
   "id": "dd6c3d4c-59a4-448c-bfe4-3bef0fbf1674",
   "metadata": {
    "panel-layout": {
     "height": 145,
     "visible": true,
     "width": 100
    }
   },
   "source": [
    "# Expressões Regulares\n",
    "\n",
    "**Expressões regulares são padrões usados para combinar ou encontrar ocorrências de sequências de caracteres em uma string. Em Python, expressões regulares são geralmente usadas para manipular strings e realizar tarefas como validação de entrada de dados, extração de informações de strings e substituição de texto.**"
   ]
  },
  {
   "cell_type": "code",
   "execution_count": 60,
   "id": "ef401ee8-8c35-486a-9d18-63b3f01acae8",
   "metadata": {},
   "outputs": [],
   "source": [
    "# regular expression\n",
    "import re"
   ]
  },
  {
   "cell_type": "code",
   "execution_count": 61,
   "id": "2758b5be-9196-4a9a-91c3-22fd56f7e1e6",
   "metadata": {},
   "outputs": [],
   "source": [
    "texto = 'Meu e-mail é exemplo@gmail.com e você pode me contatar em outro_email@mail.com.'"
   ]
  },
  {
   "cell_type": "code",
   "execution_count": 62,
   "id": "5b2fabc0-711a-4f3d-baa5-583cac72a219",
   "metadata": {},
   "outputs": [],
   "source": [
    "# expressao regular para contar quantas vezes o caracter arroba aparece no texto\n",
    "resultado = len(re.findall('@', texto))"
   ]
  },
  {
   "cell_type": "code",
   "execution_count": 63,
   "id": "17f63dee-5e08-4ed9-a44f-e1ca4b885722",
   "metadata": {
    "panel-layout": {
     "height": 0,
     "visible": true,
     "width": 100
    }
   },
   "outputs": [
    {
     "name": "stdout",
     "output_type": "stream",
     "text": [
      "O caractere \"@\" apareceu 2 vezes no texto.\n"
     ]
    }
   ],
   "source": [
    "print('O caractere \"@\" apareceu', resultado, 'vezes no texto.')"
   ]
  },
  {
   "cell_type": "code",
   "execution_count": 64,
   "id": "453210b3-5a4e-4cf8-94dd-d1983f8f87e1",
   "metadata": {},
   "outputs": [],
   "source": [
    "# expressao regular para extrair a palavra que aparece apos a palavra \"você\" em um texto\n",
    "resultado = re.findall(r'você (\\w+)', texto)"
   ]
  },
  {
   "cell_type": "code",
   "execution_count": 65,
   "id": "7b90a30a-4490-46d5-905f-685d93c48cb1",
   "metadata": {
    "panel-layout": {
     "height": 0,
     "visible": true,
     "width": 100
    }
   },
   "outputs": [
    {
     "name": "stdout",
     "output_type": "stream",
     "text": [
      "A palavra após \"você\" é: pode\n"
     ]
    }
   ],
   "source": [
    "print('A palavra após \"você\" é:', resultado[0])"
   ]
  },
  {
   "cell_type": "markdown",
   "id": "3222941a-ecba-4807-83a1-849a3d526aa8",
   "metadata": {
    "panel-layout": {
     "height": 85.41999816894531,
     "visible": true,
     "width": 100
    }
   },
   "source": [
    "Nota: O r antes da string que representa a expressão regular em Python é usado para indicar que a string é uma string literal raw. Isso significa que as barras invertidas não são interpretadas como caracteres de escape, mas são incluídas na expressão regular como parte do padrão."
   ]
  },
  {
   "cell_type": "code",
   "execution_count": 66,
   "id": "b5f4a38a-2f5b-4c26-8096-c89539fe6bca",
   "metadata": {},
   "outputs": [],
   "source": [
    "# expressão regular para extrair endereços de e-mail de uma string\n",
    "emails = re.findall(r'[a-zA-Z0-9._%+-]+@[a-zA-Z0-9.-]+\\.[a-zA-Z]{2,}', texto)"
   ]
  },
  {
   "cell_type": "code",
   "execution_count": 67,
   "id": "2c62539a-5de5-4324-b585-6e1c41b08b37",
   "metadata": {
    "panel-layout": {
     "height": 0,
     "visible": true,
     "width": 100
    }
   },
   "outputs": [
    {
     "name": "stdout",
     "output_type": "stream",
     "text": [
      "['exemplo@gmail.com', 'outro_email@mail.com']\n"
     ]
    }
   ],
   "source": [
    "print(emails)"
   ]
  },
  {
   "cell_type": "code",
   "execution_count": 68,
   "id": "67b9dae7-b6f1-46cb-964c-3800e63d5459",
   "metadata": {},
   "outputs": [],
   "source": [
    "text = 'O aluno estava incrivelmente perdido, mas encontrou a DSA e rapidamente começou a aprender.'"
   ]
  },
  {
   "cell_type": "code",
   "execution_count": 69,
   "id": "1e251166-e10f-496a-a475-db964d7dae55",
   "metadata": {},
   "outputs": [
    {
     "name": "stdout",
     "output_type": "stream",
     "text": [
      "15-28: incrivelmente\n",
      "60-71: rapidamente\n"
     ]
    }
   ],
   "source": [
    "# extraindo os advérbios da frase\n",
    "for m in re.finditer(r'\\w+mente\\b', text):\n",
    "    print('%02d-%02d: %s'  % (m.start(), m.end(), m.group(0)))"
   ]
  },
  {
   "cell_type": "markdown",
   "id": "4fd673a5-96d1-4097-978b-c6e0e2e54c0c",
   "metadata": {
    "panel-layout": {
     "height": 107.3499984741211,
     "visible": true,
     "width": 100
    }
   },
   "source": [
    "### REGEX com ChatGPT\n",
    "\n",
    "Música: Cedo ou Tarde\n",
    "\n",
    "NX Zero"
   ]
  },
  {
   "cell_type": "code",
   "execution_count": 70,
   "id": "bb6b19c4-5ce3-4fd8-b108-048cd42461fc",
   "metadata": {},
   "outputs": [],
   "source": [
    "musica = '''\n",
    "Quando perco a fé, fico sem controle\n",
    "E me sinto mal, sem esperança\n",
    "E ao meu redor a inveja vai\n",
    "Fazendo as pessoas se odiarem mais\n",
    "\n",
    "Me sinto só (me sinto só)\n",
    "Mas sei que não estou (mas sei que não estou)\n",
    "Pois levo você no pensamento\n",
    "Meu medo se vai (meu medo se vai)\n",
    "Recupero a fé (recupero a fé)\n",
    "E sinto que algum dia ainda vou te ver\n",
    "\n",
    "Cedo ou tarde\n",
    "Cedo ou tarde\n",
    "\n",
    "Cedo ou tarde a gente vai se encontrar\n",
    "Tenho certeza, numa bem melhor\n",
    "Sei que quando canto você pode me escutar\n",
    "\n",
    "Você me faz querer viver\n",
    "E o que é nosso está guardado em mim\n",
    "E em você\n",
    "E apenas isso basta\n",
    "\n",
    "Me sinto só (me sinto só)\n",
    "Mas sei que não estou (mas sei que não estou)\n",
    "Pois levo você no pensamento\n",
    "Meu medo se vai (meu medo se vai)\n",
    "Recupero a fé (recupero a fé)\n",
    "E sinto que algum dia ainda vou te ver\n",
    "\n",
    "Cedo ou tarde\n",
    "Cedo ou tarde\n",
    "\n",
    "Cedo ou tarde a gente vai se encontrar\n",
    "Tenho certeza, numa bem melhor\n",
    "Sei que quando canto você pode me escutar\n",
    "\n",
    "Uh, uh-uh-uh\n",
    "Uh, oh (oh)\n",
    "\n",
    "Cedo ou tarde a gente vai se encontrar\n",
    "Tenho certeza, numa bem melhor\n",
    "Sei que quando canto você pode me escutar\n",
    "Cedo ou tarde a gente vai se encontrar\n",
    "Tenho certeza, numa bem melhor\n",
    "Sei que quando canto você pode me escutar\n",
    "'''"
   ]
  },
  {
   "cell_type": "code",
   "execution_count": 71,
   "id": "d5ee8831-49a1-480b-99bd-2c75ce934194",
   "metadata": {
    "panel-layout": {
     "height": 0,
     "visible": true,
     "width": 100
    }
   },
   "outputs": [
    {
     "name": "stdout",
     "output_type": "stream",
     "text": [
      "\n",
      "Quando perco a fé, fico sem controle\n",
      "E me sinto mal, sem esperança\n",
      "E ao meu redor a inveja vai\n",
      "Fazendo as pessoas se odiarem mais\n",
      "\n",
      "Me sinto só (me sinto só)\n",
      "Mas sei que não estou (mas sei que não estou)\n",
      "Pois levo você no pensamento\n",
      "Meu medo se vai (meu medo se vai)\n",
      "Recupero a fé (recupero a fé)\n",
      "E sinto que algum dia ainda vou te ver\n",
      "\n",
      "Cedo ou tarde\n",
      "Cedo ou tarde\n",
      "\n",
      "Cedo ou tarde a gente vai se encontrar\n",
      "Tenho certeza, numa bem melhor\n",
      "Sei que quando canto você pode me escutar\n",
      "\n",
      "Você me faz querer viver\n",
      "E o que é nosso está guardado em mim\n",
      "E em você\n",
      "E apenas isso basta\n",
      "\n",
      "Me sinto só (me sinto só)\n",
      "Mas sei que não estou (mas sei que não estou)\n",
      "Pois levo você no pensamento\n",
      "Meu medo se vai (meu medo se vai)\n",
      "Recupero a fé (recupero a fé)\n",
      "E sinto que algum dia ainda vou te ver\n",
      "\n",
      "Cedo ou tarde\n",
      "Cedo ou tarde\n",
      "\n",
      "Cedo ou tarde a gente vai se encontrar\n",
      "Tenho certeza, numa bem melhor\n",
      "Sei que quando canto você pode me escutar\n",
      "\n",
      "Uh, uh-uh-uh\n",
      "Uh, oh (oh)\n",
      "\n",
      "Cedo ou tarde a gente vai se encontrar\n",
      "Tenho certeza, numa bem melhor\n",
      "Sei que quando canto você pode me escutar\n",
      "Cedo ou tarde a gente vai se encontrar\n",
      "Tenho certeza, numa bem melhor\n",
      "Sei que quando canto você pode me escutar\n",
      "\n"
     ]
    }
   ],
   "source": [
    "print(musica)"
   ]
  },
  {
   "cell_type": "code",
   "execution_count": 72,
   "id": "1bfbffcf-d836-4956-a106-e606521c09c5",
   "metadata": {},
   "outputs": [],
   "source": [
    "# Crie um REGEX para contar quantas vezes o caractere \"a\" aparece em todo o texto da musica\n",
    "resultado = len(re.findall('a', musica))"
   ]
  },
  {
   "cell_type": "code",
   "execution_count": 73,
   "id": "88553e0a-1d41-408a-9ffc-3c3500398e75",
   "metadata": {
    "panel-layout": {
     "height": 0,
     "visible": true,
     "width": 100
    }
   },
   "outputs": [
    {
     "name": "stdout",
     "output_type": "stream",
     "text": [
      "O caractere \"a\" apareceu 83 vezes na música.\n"
     ]
    }
   ],
   "source": [
    "print(f'O caractere \"a\" apareceu {resultado} vezes na música.')"
   ]
  },
  {
   "cell_type": "code",
   "execution_count": 74,
   "id": "d3bfaa39-45ad-4b3c-a4fe-a0b479d4e537",
   "metadata": {},
   "outputs": [],
   "source": [
    "# Crie um REGEX em Python para contar quantas vezes a palavra \"cedo\" aparece no texto da música\n",
    "resultado = len(re.findall(r'\\bCedo\\b', musica))"
   ]
  },
  {
   "cell_type": "code",
   "execution_count": 75,
   "id": "497630ce-7125-47f6-88d2-9630c424f19f",
   "metadata": {
    "panel-layout": {
     "height": 0,
     "visible": true,
     "width": 100
    }
   },
   "outputs": [
    {
     "name": "stdout",
     "output_type": "stream",
     "text": [
      "A palavra \"Cedo\" apareceu 8 vezes na música.\n"
     ]
    }
   ],
   "source": [
    "print(f'A palavra \"Cedo\" apareceu {resultado} vezes na música.')"
   ]
  },
  {
   "cell_type": "code",
   "execution_count": 76,
   "id": "1c8e04d2-2ea7-414b-b62a-c714df3f8683",
   "metadata": {},
   "outputs": [],
   "source": [
    "# Crie um REGEX em Python para extrair as palavras seguidas por vírgula\n",
    "resultado = re.findall(r'\\b\\w+,', musica)"
   ]
  },
  {
   "cell_type": "code",
   "execution_count": 77,
   "id": "3b5d7abb-1d0c-48a1-87ea-41f377f34891",
   "metadata": {
    "panel-layout": {
     "height": 0,
     "visible": true,
     "width": 100
    }
   },
   "outputs": [
    {
     "name": "stdout",
     "output_type": "stream",
     "text": [
      "As palavras seguidas por vírgula na música são: ['fé,', 'mal,', 'certeza,', 'certeza,', 'Uh,', 'Uh,', 'certeza,', 'certeza,']\n"
     ]
    }
   ],
   "source": [
    "print(f'As palavras seguidas por vírgula na música são: {resultado}')"
   ]
  },
  {
   "cell_type": "code",
   "execution_count": 78,
   "id": "ee531ce1-a15d-4191-8f84-31e74f4cfd1a",
   "metadata": {},
   "outputs": [],
   "source": [
    "# Crie um REGEX que extrai qualquer palavra cujo antecessor seja a palavra \"você\", e o sucessor seja a palavra \"me\"\n",
    "resultado = re.findall(r'(?<=\\bMeu\\s)\\w+(?=\\sse\\b)', musica)"
   ]
  },
  {
   "cell_type": "code",
   "execution_count": 79,
   "id": "5e0055e3-b3d6-4aca-848c-fb71f9571c5c",
   "metadata": {
    "panel-layout": {
     "height": 0,
     "visible": true,
     "width": 100
    }
   },
   "outputs": [
    {
     "name": "stdout",
     "output_type": "stream",
     "text": [
      "Palavra(s) encontrada(s): medo\n"
     ]
    }
   ],
   "source": [
    "print(f'Palavra(s) encontrada(s): {resultado[0]}')"
   ]
  },
  {
   "cell_type": "code",
   "execution_count": 80,
   "id": "1669dfb3-95aa-41ea-b00a-ed98a88d5eb7",
   "metadata": {},
   "outputs": [],
   "source": [
    "# Crie um REGEX que retorne as palavras com acento, mas somente os caracteres na palavra que são anteriores ao caracter com acento.\n",
    "resultado = re.findall(r'\\b(\\w*?)(?=[áéíóúãõâêîôûäëïöüàèìòù])', musica)"
   ]
  },
  {
   "cell_type": "code",
   "execution_count": 82,
   "id": "91a3bc74-9690-41a4-a063-c562a9903112",
   "metadata": {
    "panel-layout": {
     "height": 0,
     "visible": true,
     "width": 100
    }
   },
   "outputs": [
    {
     "name": "stdout",
     "output_type": "stream",
     "text": [
      "Palavra(s) encontrada(s): ['f', 's', 's', 'n', 'n', 'voc', 'f', 'f', 'voc', 'Voc', '', 'est', 'voc', 's', 's', 'n', 'n', 'voc', 'f', 'f', 'voc', 'voc', 'voc']\n"
     ]
    }
   ],
   "source": [
    "print(f'Palavra(s) encontrada(s): {resultado}')"
   ]
  }
 ],
 "metadata": {
  "kernelspec": {
   "display_name": "Python 3 (ipykernel)",
   "language": "python",
   "name": "python3"
  },
  "language_info": {
   "codemirror_mode": {
    "name": "ipython",
    "version": 3
   },
   "file_extension": ".py",
   "mimetype": "text/x-python",
   "name": "python",
   "nbconvert_exporter": "python",
   "pygments_lexer": "ipython3",
   "version": "3.12.7"
  },
  "panel-cell-order": [
   "dd6c3d4c-59a4-448c-bfe4-3bef0fbf1674",
   "17f63dee-5e08-4ed9-a44f-e1ca4b885722",
   "7b90a30a-4490-46d5-905f-685d93c48cb1",
   "3222941a-ecba-4807-83a1-849a3d526aa8",
   "2c62539a-5de5-4324-b585-6e1c41b08b37",
   "4fd673a5-96d1-4097-978b-c6e0e2e54c0c",
   "d5ee8831-49a1-480b-99bd-2c75ce934194",
   "88553e0a-1d41-408a-9ffc-3c3500398e75",
   "497630ce-7125-47f6-88d2-9630c424f19f",
   "3b5d7abb-1d0c-48a1-87ea-41f377f34891",
   "5e0055e3-b3d6-4aca-848c-fb71f9571c5c",
   "91a3bc74-9690-41a4-a063-c562a9903112"
  ]
 },
 "nbformat": 4,
 "nbformat_minor": 5
}
