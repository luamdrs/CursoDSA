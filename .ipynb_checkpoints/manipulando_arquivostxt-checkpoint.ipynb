{
 "cells": [
  {
   "cell_type": "markdown",
   "id": "49bae682-c924-4606-b200-b41a583320c8",
   "metadata": {},
   "source": [
    "### Manipulando Arquivos TXT"
   ]
  },
  {
   "cell_type": "code",
   "execution_count": 49,
   "id": "ff70a329-7d59-445e-b821-4280b2d10884",
   "metadata": {},
   "outputs": [],
   "source": [
    "texto = 'Cientista de Dados pode ser uma excelente alternativa de carreira.\\n'\n",
    "texto = texto + 'Esses profissionais precisam saber como programar em Python.\\n'\n",
    "texto += 'E, claro, devem ser proficientes em Data Science.'"
   ]
  },
  {
   "cell_type": "code",
   "execution_count": 50,
   "id": "3df2fd87-7daa-461a-921c-4a02a01a43e4",
   "metadata": {},
   "outputs": [
    {
     "name": "stdout",
     "output_type": "stream",
     "text": [
      "Cientista de Dados pode ser uma excelente alternativa de carreira.\n",
      "Esses profissionais precisam saber como programar em Python.\n",
      "E, claro, devem ser proficientes em Data Science.\n"
     ]
    }
   ],
   "source": [
    "print(texto)"
   ]
  },
  {
   "cell_type": "code",
   "execution_count": 51,
   "id": "62b97892-7a71-470b-a74e-389b77e801ab",
   "metadata": {},
   "outputs": [],
   "source": [
    "# importando o modulo os \n",
    "import os"
   ]
  },
  {
   "cell_type": "code",
   "execution_count": 52,
   "id": "c6fdc911-cdfe-49ff-bafa-4d2d7fa168e1",
   "metadata": {},
   "outputs": [],
   "source": [
    "# criando um arquivo\n",
    "arquivo = open(os.path.join('arquivos/cientista.txt'), 'w')"
   ]
  },
  {
   "cell_type": "code",
   "execution_count": 53,
   "id": "a6b54359-839c-417f-8ff5-a566c539db29",
   "metadata": {},
   "outputs": [],
   "source": [
    "# gravando os dados no arquivo\n",
    "for palavra in texto.split():\n",
    "    arquivo.write(palavra + ' ')"
   ]
  },
  {
   "cell_type": "code",
   "execution_count": 54,
   "id": "7ae93dca-3e29-4982-8c1c-198f13ec4412",
   "metadata": {},
   "outputs": [],
   "source": [
    "# fecha o arquivo\n",
    "arquivo.close()"
   ]
  },
  {
   "cell_type": "code",
   "execution_count": 55,
   "id": "08afeefe-c804-4919-a95d-8daf8a37fa92",
   "metadata": {},
   "outputs": [],
   "source": [
    "# lendo o arquivo\n",
    "arquivo = open('arquivos/cientista.txt', 'r')"
   ]
  },
  {
   "cell_type": "code",
   "execution_count": 56,
   "id": "f2415a09-d9ae-4c75-9f43-17651ca95b5c",
   "metadata": {},
   "outputs": [],
   "source": [
    "conteudo = arquivo.read()"
   ]
  },
  {
   "cell_type": "code",
   "execution_count": 57,
   "id": "ca4a86cd-c896-4e9e-831a-84e01d18a7a0",
   "metadata": {},
   "outputs": [],
   "source": [
    "arquivo.close()"
   ]
  },
  {
   "cell_type": "code",
   "execution_count": 58,
   "id": "ca5ce6c5-4f37-4a00-94fe-bfaf2c8849fc",
   "metadata": {},
   "outputs": [
    {
     "name": "stdout",
     "output_type": "stream",
     "text": [
      "Cientista de Dados pode ser uma excelente alternativa de carreira. Esses profissionais precisam saber como programar em Python. E, claro, devem ser proficientes em Data Science. \n"
     ]
    }
   ],
   "source": [
    "print(conteudo)"
   ]
  },
  {
   "cell_type": "markdown",
   "id": "d4d9a2ce-dbfa-4699-ab9b-cc76e1bd03af",
   "metadata": {},
   "source": [
    "### Usando a expressão with"
   ]
  },
  {
   "cell_type": "markdown",
   "id": "d9663a83-568e-40a6-8638-c5508d49ab67",
   "metadata": {},
   "source": [
    "*O método close() é usado automaticamente.*"
   ]
  },
  {
   "cell_type": "code",
   "execution_count": 59,
   "id": "20606a7b-50bf-4c57-88e5-d120638eae19",
   "metadata": {},
   "outputs": [],
   "source": [
    "with open('arquivos/cientista.txt', 'r') as arquivo:\n",
    "    conteudo = arquivo.read()"
   ]
  },
  {
   "cell_type": "code",
   "execution_count": 60,
   "id": "3146741f-0326-43d9-9d38-68baa8d73f26",
   "metadata": {},
   "outputs": [
    {
     "name": "stdout",
     "output_type": "stream",
     "text": [
      "Cientista de Dados pode ser uma excelente alternativa de carreira. Esses profissionais precisam saber como programar em Python. E, claro, devem ser proficientes em Data Science. \n"
     ]
    }
   ],
   "source": [
    "print(conteudo)"
   ]
  },
  {
   "cell_type": "code",
   "execution_count": 61,
   "id": "e9410a8c-b33e-42d6-9ee8-4be3e3c9aef2",
   "metadata": {},
   "outputs": [
    {
     "name": "stdout",
     "output_type": "stream",
     "text": [
      "178\n"
     ]
    }
   ],
   "source": [
    "# comprimento do arquivo\n",
    "print(len(conteudo))"
   ]
  },
  {
   "cell_type": "code",
   "execution_count": 62,
   "id": "ac6794f0-b09e-4ee0-951b-ab16f7cb202e",
   "metadata": {},
   "outputs": [],
   "source": [
    "with open('arquivos/cientista.txt', 'w') as arquivo:\n",
    "    arquivo.write(texto[:19])\n",
    "    arquivo.write('\\n')\n",
    "    arquivo.write(texto[28:66])"
   ]
  },
  {
   "cell_type": "code",
   "execution_count": 63,
   "id": "10999fac-d0c2-4b95-9a30-a4c86c27fa5e",
   "metadata": {},
   "outputs": [
    {
     "name": "stdout",
     "output_type": "stream",
     "text": [
      "Cientista de Dados \n",
      "uma excelente alternativa de carreira.\n"
     ]
    }
   ],
   "source": [
    "# lendo o arquivo\n",
    "arquivo = open('arquivos/cientista.txt', 'r')\n",
    "conteudo = arquivo.read()\n",
    "arquivo.close()\n",
    "print(conteudo)"
   ]
  },
  {
   "cell_type": "markdown",
   "id": "361b01e4-4363-4064-84d3-c31a4f21404c",
   "metadata": {},
   "source": [
    "### Manipulando Arquivos CSV"
   ]
  },
  {
   "cell_type": "code",
   "execution_count": 64,
   "id": "17b45969-5bb4-468d-888e-eb13e9408691",
   "metadata": {},
   "outputs": [],
   "source": [
    "# importando o modulo CSV\n",
    "import csv"
   ]
  },
  {
   "cell_type": "code",
   "execution_count": 65,
   "id": "8789de96-84a5-4d70-ac56-8467bded0156",
   "metadata": {},
   "outputs": [],
   "source": [
    "with open('arquivos/numeros.csv', 'w') as arquivo:\n",
    "    # cria o objeto de gravação\n",
    "    writer = csv.writer(arquivo)\n",
    "    # grava no arquivo linha a linha\n",
    "    writer.writerow(('nota1', 'nota2', 'nota3'))\n",
    "    writer.writerow((63, 87, 92))\n",
    "    writer.writerow((61, 79, 76))\n",
    "    writer.writerow((72, 64, 91))"
   ]
  },
  {
   "cell_type": "code",
   "execution_count": 66,
   "id": "9e3fa1a2-ea5a-44fd-a2b6-b9354252dc8b",
   "metadata": {},
   "outputs": [
    {
     "name": "stdout",
     "output_type": "stream",
     "text": [
      "['nota1', 'nota2', 'nota3']\n",
      "['63', '87', '92']\n",
      "['61', '79', '76']\n",
      "['72', '64', '91']\n"
     ]
    }
   ],
   "source": [
    "# leitura de arquivos csv\n",
    "with open('arquivos/numeros.csv', 'r', encoding='utf8', newline='\\r\\n') as arquivo:  \n",
    "    # cria o objeto de leitura\n",
    "    leitor = csv.reader(arquivo)\n",
    "    # loop\n",
    "    for x in leitor:\n",
    "        print(x)"
   ]
  },
  {
   "cell_type": "code",
   "execution_count": 67,
   "id": "e7611533-f7e7-4570-a54e-aecc59015a27",
   "metadata": {},
   "outputs": [],
   "source": [
    "# gerando uma lista com dados do arquivo CSV\n",
    "with open('arquivos/numeros.csv', 'r') as arquivo:\n",
    "    leitor = csv.reader(arquivo)\n",
    "    dados = list(leitor)"
   ]
  },
  {
   "cell_type": "code",
   "execution_count": 68,
   "id": "d17f0a0a-46a8-4322-961d-c1c95f17413f",
   "metadata": {},
   "outputs": [
    {
     "name": "stdout",
     "output_type": "stream",
     "text": [
      "[['nota1', 'nota2', 'nota3'], [], ['63', '87', '92'], [], ['61', '79', '76'], [], ['72', '64', '91'], []]\n"
     ]
    }
   ],
   "source": [
    "print(dados)"
   ]
  },
  {
   "cell_type": "code",
   "execution_count": 69,
   "id": "2726efda-d1cb-4008-a338-b0650330f95d",
   "metadata": {},
   "outputs": [
    {
     "name": "stdout",
     "output_type": "stream",
     "text": [
      "[]\n",
      "['63', '87', '92']\n",
      "[]\n",
      "['61', '79', '76']\n",
      "[]\n",
      "['72', '64', '91']\n",
      "[]\n"
     ]
    }
   ],
   "source": [
    "# imprimindo a partir da segunda linha\n",
    "for linha in dados[1:]:\n",
    "    print(linha)"
   ]
  },
  {
   "cell_type": "code",
   "execution_count": null,
   "id": "a902f391-d47a-4247-bfdf-8e14b5a27c2f",
   "metadata": {},
   "outputs": [],
   "source": []
  }
 ],
 "metadata": {
  "kernelspec": {
   "display_name": "Python 3 (ipykernel)",
   "language": "python",
   "name": "python3"
  },
  "language_info": {
   "codemirror_mode": {
    "name": "ipython",
    "version": 3
   },
   "file_extension": ".py",
   "mimetype": "text/x-python",
   "name": "python",
   "nbconvert_exporter": "python",
   "pygments_lexer": "ipython3",
   "version": "3.12.7"
  }
 },
 "nbformat": 4,
 "nbformat_minor": 5
}
