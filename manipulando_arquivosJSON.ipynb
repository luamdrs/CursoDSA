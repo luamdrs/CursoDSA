{
 "cells": [
  {
   "cell_type": "markdown",
   "id": "3f590cf7-04d5-456d-b551-5db0d5c2368b",
   "metadata": {},
   "source": [
    "### Manipulando arquivos JSON"
   ]
  },
  {
   "cell_type": "code",
   "execution_count": 1,
   "id": "278840d2-94c3-4e8a-9073-77172fecbc8e",
   "metadata": {},
   "outputs": [],
   "source": [
    "# criando um dicionario\n",
    "dict_guido = {\n",
    "    'nome': 'Guido van Rossum',\n",
    "    'linguagem': 'Python',\n",
    "    'similar': ['c', 'Modula-3', 'lisp'],\n",
    "    'users': 1000000\n",
    "}"
   ]
  },
  {
   "cell_type": "code",
   "execution_count": 2,
   "id": "f2a9159a-5971-4604-9b7d-7ec921e3c055",
   "metadata": {},
   "outputs": [
    {
     "name": "stdout",
     "output_type": "stream",
     "text": [
      "nome Guido van Rossum\n",
      "linguagem Python\n",
      "similar ['c', 'Modula-3', 'lisp']\n",
      "users 1000000\n"
     ]
    }
   ],
   "source": [
    "for k, v in dict_guido.items():\n",
    "    print(k, v)"
   ]
  },
  {
   "cell_type": "code",
   "execution_count": 3,
   "id": "e520fda0-4f29-4e7d-b78b-b858272cf45f",
   "metadata": {},
   "outputs": [],
   "source": [
    "# importando o m[odulo json\n",
    "import json"
   ]
  },
  {
   "cell_type": "code",
   "execution_count": 5,
   "id": "5a66ce98-6405-43e9-8c4d-b16c9edea0fd",
   "metadata": {},
   "outputs": [
    {
     "data": {
      "text/plain": [
       "'{\"nome\": \"Guido van Rossum\", \"linguagem\": \"Python\", \"similar\": [\"c\", \"Modula-3\", \"lisp\"], \"users\": 1000000}'"
      ]
     },
     "execution_count": 5,
     "metadata": {},
     "output_type": "execute_result"
    }
   ],
   "source": [
    "# convertendo o dicionario para um objeto json\n",
    "json.dumps(dict_guido)"
   ]
  },
  {
   "cell_type": "code",
   "execution_count": 6,
   "id": "13e20971-7b85-4780-b6df-b796c3242c51",
   "metadata": {},
   "outputs": [],
   "source": [
    "# criando um arquivo json\n",
    "with open('arquivos/dados.json', 'w') as arquivo:\n",
    "    arquivo.write(json.dumps(dict_guido))"
   ]
  },
  {
   "cell_type": "code",
   "execution_count": 7,
   "id": "99b816f4-35c1-4ef6-af3d-5597049be660",
   "metadata": {},
   "outputs": [],
   "source": [
    "# leitura de arquivos json\n",
    "with open('arquivos/dados.json', 'r') as arquivo:\n",
    "    texto = arquivo.read()\n",
    "    dados = json.loads(texto)"
   ]
  },
  {
   "cell_type": "code",
   "execution_count": 8,
   "id": "a0c633d6-749a-4c60-a674-07c2898a9094",
   "metadata": {},
   "outputs": [
    {
     "data": {
      "text/plain": [
       "{'nome': 'Guido van Rossum',\n",
       " 'linguagem': 'Python',\n",
       " 'similar': ['c', 'Modula-3', 'lisp'],\n",
       " 'users': 1000000}"
      ]
     },
     "execution_count": 8,
     "metadata": {},
     "output_type": "execute_result"
    }
   ],
   "source": [
    "dados"
   ]
  },
  {
   "cell_type": "code",
   "execution_count": 10,
   "id": "b5acb936-906b-4bca-954a-179f7764fc00",
   "metadata": {},
   "outputs": [
    {
     "name": "stdout",
     "output_type": "stream",
     "text": [
      "Guido van Rossum\n"
     ]
    }
   ],
   "source": [
    "print(dados['nome'])"
   ]
  },
  {
   "cell_type": "markdown",
   "id": "0b8964a9-7413-4566-95a2-abc20fd5f407",
   "metadata": {},
   "source": [
    "### Extração de arquivo da Web"
   ]
  },
  {
   "cell_type": "code",
   "execution_count": 11,
   "id": "04d81e1d-0d7d-4818-ada2-3e3134d9470c",
   "metadata": {},
   "outputs": [],
   "source": [
    "# imprimindo um arquivo Json copiado da internet\n",
    "from urllib.request import urlopen"
   ]
  },
  {
   "cell_type": "code",
   "execution_count": 12,
   "id": "e2890902-5232-4055-bb5b-bfebd10bda7b",
   "metadata": {},
   "outputs": [],
   "source": [
    "response = urlopen('http://vimeo.com/api/v2/video/57733101.json').read().decode('utf8')"
   ]
  },
  {
   "cell_type": "code",
   "execution_count": 13,
   "id": "2e1d3870-5249-4411-812e-53f511f29e99",
   "metadata": {},
   "outputs": [],
   "source": [
    "dados = json.loads(response)[0]"
   ]
  },
  {
   "cell_type": "code",
   "execution_count": 14,
   "id": "a275fe41-e33b-4b03-bb28-b783b5824ac3",
   "metadata": {},
   "outputs": [
    {
     "data": {
      "text/plain": [
       "{'id': 57733101,\n",
       " 'title': 'The Good Man trailer',\n",
       " 'description': 'Trailer for the Manifesto Films production, The Good Man, now available in UK/Ireland/US/Canada/Australia/New Zealand on iTunes (https://itunes.apple.com/us/movie/the-good-man/id873130906) and DVD (http://www.amazon.co.uk/The-Good-Man-Aiden-Gillen/dp/B00IIK6CGU/). Co-production with Jet Black Entertainment (South Africa). Starring Aidan Gillen, Thabang Sidloyi, Kelly Campbell, Lunathi Mampofu. Written & directed by Phil Harrison. More info at www.thegoodmanfilm.com<br />\\r\\n<br />\\r\\nCheck out the Variety Magazine review here: http://www.variety.com/review/VE1117947909/',\n",
       " 'url': 'https://vimeo.com/57733101',\n",
       " 'upload_date': '2013-01-19 04:01:15',\n",
       " 'thumbnail_small': 'https://i.vimeocdn.com/video/436057121-e828a1f5478ec0136e957753d107f2a1268c64def9b82faac37c8e30c031cff2-d_100x75',\n",
       " 'thumbnail_medium': 'https://i.vimeocdn.com/video/436057121-e828a1f5478ec0136e957753d107f2a1268c64def9b82faac37c8e30c031cff2-d_200x150',\n",
       " 'thumbnail_large': 'https://i.vimeocdn.com/video/436057121-e828a1f5478ec0136e957753d107f2a1268c64def9b82faac37c8e30c031cff2-d_640',\n",
       " 'user_id': 1334563,\n",
       " 'user_name': 'Manifesto Films',\n",
       " 'user_url': 'https://vimeo.com/manifestofilms',\n",
       " 'user_portrait_small': 'https://i.vimeocdn.com/portrait/4778306_30x30?sig=dce4bd41e32adf3305ffd0a161ae27a5c919bba5773cf2f2c3ca5be075726518&v=1',\n",
       " 'user_portrait_medium': 'https://i.vimeocdn.com/portrait/4778306_75x75?sig=dce4bd41e32adf3305ffd0a161ae27a5c919bba5773cf2f2c3ca5be075726518&v=1',\n",
       " 'user_portrait_large': 'https://i.vimeocdn.com/portrait/4778306_100x100?sig=dce4bd41e32adf3305ffd0a161ae27a5c919bba5773cf2f2c3ca5be075726518&v=1',\n",
       " 'user_portrait_huge': 'https://i.vimeocdn.com/portrait/4778306_300x300?sig=dce4bd41e32adf3305ffd0a161ae27a5c919bba5773cf2f2c3ca5be075726518&v=1',\n",
       " 'stats_number_of_likes': 18,\n",
       " 'stats_number_of_plays': 6775,\n",
       " 'stats_number_of_comments': 0,\n",
       " 'duration': 143,\n",
       " 'width': 1024,\n",
       " 'height': 576,\n",
       " 'tags': 'belfast, cape town, africa, ireland, film',\n",
       " 'embed_privacy': 'anywhere'}"
      ]
     },
     "execution_count": 14,
     "metadata": {},
     "output_type": "execute_result"
    }
   ],
   "source": [
    "dados"
   ]
  },
  {
   "cell_type": "code",
   "execution_count": 18,
   "id": "1c74cc31-b469-4fc9-a55f-c43364b01402",
   "metadata": {},
   "outputs": [
    {
     "name": "stdout",
     "output_type": "stream",
     "text": [
      "Título:  The Good Man trailer\n",
      "URL:  https://vimeo.com/57733101\n",
      "Duração:  143\n",
      "Número de visualizações:  6775\n"
     ]
    }
   ],
   "source": [
    "print('Título: ', dados['title'])\n",
    "print('URL: ', dados['url'])\n",
    "print('Duração: ', dados['duration'])\n",
    "print('Número de visualizações: ', dados['stats_number_of_plays'])"
   ]
  },
  {
   "cell_type": "markdown",
   "id": "6952f20f-3ff2-48ac-a942-a5cfdbcf12b7",
   "metadata": {},
   "source": [
    "### Copiando o conteudo de um arquivo para outro"
   ]
  },
  {
   "cell_type": "code",
   "execution_count": 19,
   "id": "1d54ad8b-7b01-4dfd-a6a3-b9272c64501f",
   "metadata": {},
   "outputs": [],
   "source": [
    "# nomes dos arquivos\n",
    "arquivo_fonte = 'arquivos/dados.json'\n",
    "arquivo_destino = 'arquivos/dados.txt'"
   ]
  },
  {
   "cell_type": "code",
   "execution_count": 20,
   "id": "5e6ae0bf-9f23-4b95-a1a5-b9c5fa2d0dc7",
   "metadata": {},
   "outputs": [],
   "source": [
    "# metodo 1\n",
    "with open(arquivo_fonte, 'r') as infile:\n",
    "    text = infile.read()\n",
    "    with open(arquivo_destino, 'w') as outfile:\n",
    "        outfile.write(text)"
   ]
  },
  {
   "cell_type": "code",
   "execution_count": 21,
   "id": "9d8fc4b8-3424-41df-a370-ca051f6748de",
   "metadata": {},
   "outputs": [
    {
     "data": {
      "text/plain": [
       "107"
      ]
     },
     "execution_count": 21,
     "metadata": {},
     "output_type": "execute_result"
    }
   ],
   "source": [
    "# metodo 2\n",
    "open(arquivo_destino, 'w').write(open(arquivo_fonte, 'r').read())"
   ]
  },
  {
   "cell_type": "code",
   "execution_count": 22,
   "id": "d339b528-fb1d-45de-8cbd-cdc63761dce9",
   "metadata": {},
   "outputs": [],
   "source": [
    "# leitura do arquivo txt\n",
    "with open('arquivos/dados.txt', 'r') as arquivo:\n",
    "    texto = arquivo.read()\n",
    "    dados = json.loads(texto)"
   ]
  },
  {
   "cell_type": "code",
   "execution_count": 24,
   "id": "b6907ffe-857a-4ab6-84e4-52e3996fff0f",
   "metadata": {},
   "outputs": [
    {
     "name": "stdout",
     "output_type": "stream",
     "text": [
      "{'nome': 'Guido van Rossum', 'linguagem': 'Python', 'similar': ['c', 'Modula-3', 'lisp'], 'users': 1000000}\n"
     ]
    }
   ],
   "source": [
    "print(dados)"
   ]
  }
 ],
 "metadata": {
  "kernelspec": {
   "display_name": "Python 3 (ipykernel)",
   "language": "python",
   "name": "python3"
  },
  "language_info": {
   "codemirror_mode": {
    "name": "ipython",
    "version": 3
   },
   "file_extension": ".py",
   "mimetype": "text/x-python",
   "name": "python",
   "nbconvert_exporter": "python",
   "pygments_lexer": "ipython3",
   "version": "3.12.7"
  }
 },
 "nbformat": 4,
 "nbformat_minor": 5
}
