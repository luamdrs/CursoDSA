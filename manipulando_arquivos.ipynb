{
 "cells": [
  {
   "cell_type": "markdown",
   "id": "326b4be1-5595-468f-ae65-4b103b249878",
   "metadata": {},
   "source": [
    "**Manipulação de Arquivos**"
   ]
  },
  {
   "cell_type": "markdown",
   "id": "8c3c38bb-2a57-4daa-b50c-2a313e95872d",
   "metadata": {},
   "source": [
    "Lendo arquivos"
   ]
  },
  {
   "cell_type": "code",
   "execution_count": 60,
   "id": "8f1f937c-ae52-4214-b06a-9dbd942c96d7",
   "metadata": {},
   "outputs": [],
   "source": [
    "# abrindo o arquivo para leitura\n",
    "arq1 = open('arquivos/verdades_dev.txt', 'r') # read -> ler"
   ]
  },
  {
   "cell_type": "code",
   "execution_count": 61,
   "id": "26fa08eb-971b-40b7-83c5-6481d02a9aa4",
   "metadata": {},
   "outputs": [
    {
     "data": {
      "text/plain": [
       "_io.TextIOWrapper"
      ]
     },
     "execution_count": 61,
     "metadata": {},
     "output_type": "execute_result"
    }
   ],
   "source": [
    "type(arq1)"
   ]
  },
  {
   "cell_type": "code",
   "execution_count": 62,
   "id": "a7d6277f-1003-45e6-a37b-46852b9cef2a",
   "metadata": {},
   "outputs": [
    {
     "name": "stdout",
     "output_type": "stream",
     "text": [
      "10 verdades Doloridas sobre ser programador:\n",
      "\n",
      "1. VocÃª vai ser rejeitado.\n",
      "\n",
      "2. Juniors sofrem mais.\n",
      "\n",
      "3. Fazer 1 projeto Ã© melhor do que assistir 100 tutorias.\n",
      "\n",
      "4. VocÃª precisa saber se vender.\n",
      "\n",
      "5. Cuide da sua saÃºde enquanto pode.\n",
      "\n",
      "6. A sua empresa te vÃª como sÃ³ mais um. Ela nÃ£o Ã© sua famÃ­lia.\n",
      "\n",
      "7. 1h por dia durante 10 dias Ã© melhor do que 10h durante 1 dia.\n",
      "\n",
      "8. Saiba como fazer perguntas.\n",
      "\n",
      "9. Ã‰ melhor prometer de menos e entregar de mais.\n",
      "\n",
      "10. ConsistÃªncia ganha de talento.\n",
      "\n",
      "Mas acima de tudo:\n",
      "\n",
      "NÃ£o desista.\n",
      "\n",
      "A sua vaga vai chegar e vocÃª vai mostrar para todo mundo que estava certo, tudo vai valer a pena.\n"
     ]
    }
   ],
   "source": [
    "# lendo o arquivo\n",
    "print(arq1.read())"
   ]
  },
  {
   "cell_type": "code",
   "execution_count": 63,
   "id": "343456c0-cf92-4890-991e-94d57b3b398f",
   "metadata": {},
   "outputs": [
    {
     "name": "stdout",
     "output_type": "stream",
     "text": [
      "624\n"
     ]
    }
   ],
   "source": [
    "# contar o numero de caracteres\n",
    "print(arq1.tell())"
   ]
  },
  {
   "cell_type": "code",
   "execution_count": 64,
   "id": "6fbf0c75-c3cb-4370-ab86-1476d4a0574f",
   "metadata": {},
   "outputs": [
    {
     "name": "stdout",
     "output_type": "stream",
     "text": [
      "0\n"
     ]
    }
   ],
   "source": [
    "# retornar para o inicio do arquivo\n",
    "print(arq1.seek(0, 0))"
   ]
  },
  {
   "cell_type": "code",
   "execution_count": 65,
   "id": "63ac8ee7-1e34-4db3-8866-990f44fbff6d",
   "metadata": {},
   "outputs": [
    {
     "name": "stdout",
     "output_type": "stream",
     "text": [
      "10 verdades Doloridas \n"
     ]
    }
   ],
   "source": [
    "# lendo os primeiros 23 caracteres\n",
    "print(arq1.read(22))"
   ]
  },
  {
   "cell_type": "code",
   "execution_count": 66,
   "id": "f89f50d6-7837-4cb2-adb6-c7cd07d77203",
   "metadata": {},
   "outputs": [
    {
     "name": "stdout",
     "output_type": "stream",
     "text": [
      "sobre ser programador:\n",
      "\n",
      "1. VocÃª vai ser rejeitado.\n",
      "\n",
      "2. Juniors sofrem mais.\n",
      "\n",
      "3. Fazer 1 projeto Ã© melhor do que assistir 100 tutorias.\n",
      "\n",
      "4. VocÃª precisa saber se vender.\n",
      "\n",
      "5. Cuide da sua saÃºde enquanto pode.\n",
      "\n",
      "6. A sua empresa te vÃª como sÃ³ mais um. Ela nÃ£o Ã© sua famÃ­lia.\n",
      "\n",
      "7. 1h por dia durante 10 dias Ã© melhor do que 10h durante 1 dia.\n",
      "\n",
      "8. Saiba como fazer perguntas.\n",
      "\n",
      "9. Ã‰ melhor prometer de menos e entregar de mais.\n",
      "\n",
      "10. ConsistÃªncia ganha de talento.\n",
      "\n",
      "Mas acima de tudo:\n",
      "\n",
      "NÃ£o desista.\n",
      "\n",
      "A sua vaga vai chegar e vocÃª vai mostrar para todo mundo que estava certo, tudo vai valer a pena.\n"
     ]
    }
   ],
   "source": [
    "print(arq1.read())"
   ]
  },
  {
   "cell_type": "markdown",
   "id": "5258df59-aee5-4f0a-a8f2-49eedb16c746",
   "metadata": {},
   "source": [
    "**Gravando arquivos**"
   ]
  },
  {
   "cell_type": "code",
   "execution_count": 67,
   "id": "1c19d2ff-65a7-4f58-b0bd-6f8af4750e0c",
   "metadata": {},
   "outputs": [],
   "source": [
    "arq2 = open('arquivos/arquivo2.txt', 'w') # write -> escrever"
   ]
  },
  {
   "cell_type": "code",
   "execution_count": 68,
   "id": "ff464d6b-1551-4e37-a48f-ebcc688a0b5b",
   "metadata": {},
   "outputs": [
    {
     "data": {
      "text/plain": [
       "33"
      ]
     },
     "execution_count": 68,
     "metadata": {},
     "output_type": "execute_result"
    }
   ],
   "source": [
    "# gravacao do arquivo\n",
    "arq2.write('Aprendendo a programar em Python.')"
   ]
  },
  {
   "cell_type": "code",
   "execution_count": 69,
   "id": "53b534b3-a588-452f-a760-5d6fea6bf6be",
   "metadata": {},
   "outputs": [],
   "source": [
    "# fechando o arquivo\n",
    "arq2.close()"
   ]
  },
  {
   "cell_type": "code",
   "execution_count": 70,
   "id": "7d94a197-2cd4-4a25-b423-b63656836d5b",
   "metadata": {},
   "outputs": [],
   "source": [
    "# abrindo o arquivo no modo leitura\n",
    "arq2 = open('arquivos/arquivo2.txt', 'r')"
   ]
  },
  {
   "cell_type": "code",
   "execution_count": 71,
   "id": "2d101f44-ef04-4f5d-a43e-87b5dda177d8",
   "metadata": {},
   "outputs": [
    {
     "name": "stdout",
     "output_type": "stream",
     "text": [
      "Aprendendo a programar em Python.\n"
     ]
    }
   ],
   "source": [
    "print(arq2.read())"
   ]
  },
  {
   "cell_type": "code",
   "execution_count": 72,
   "id": "1862c2aa-d029-4443-bf52-66cc965a554f",
   "metadata": {},
   "outputs": [],
   "source": [
    "# acrescentando conteudo\n",
    "arq2 = open('arquivos/arquivo2.txt', 'a') # append -> acrescentar"
   ]
  },
  {
   "cell_type": "code",
   "execution_count": 73,
   "id": "5c97dbd3-c9ec-4baa-abd3-7ab24cb5d550",
   "metadata": {},
   "outputs": [
    {
     "data": {
      "text/plain": [
       "74"
      ]
     },
     "execution_count": 73,
     "metadata": {},
     "output_type": "execute_result"
    }
   ],
   "source": [
    "arq2.write(' E a metodologia de ensino da Data Science Academy facilita o aprendizado.')"
   ]
  },
  {
   "cell_type": "code",
   "execution_count": 74,
   "id": "9abc9e3b-730a-4797-b599-91f5b208f47a",
   "metadata": {},
   "outputs": [],
   "source": [
    "arq2.close()"
   ]
  },
  {
   "cell_type": "code",
   "execution_count": 75,
   "id": "b456429b-5d76-45ae-9ae7-ef77186f9d59",
   "metadata": {},
   "outputs": [],
   "source": [
    "arq2 = open('arquivos/arquivo2.txt', 'r')"
   ]
  },
  {
   "cell_type": "code",
   "execution_count": 76,
   "id": "89782144-255e-43fa-9665-236407a3eb08",
   "metadata": {},
   "outputs": [
    {
     "name": "stdout",
     "output_type": "stream",
     "text": [
      "Aprendendo a programar em Python. E a metodologia de ensino da Data Science Academy facilita o aprendizado.\n"
     ]
    }
   ],
   "source": [
    "print(arq2.read())"
   ]
  },
  {
   "cell_type": "code",
   "execution_count": 79,
   "id": "8075ab92-2d03-433e-8b42-aa2c139b4e4b",
   "metadata": {},
   "outputs": [
    {
     "data": {
      "text/plain": [
       "0"
      ]
     },
     "execution_count": 79,
     "metadata": {},
     "output_type": "execute_result"
    }
   ],
   "source": [
    "arq2.seek(0, 0)"
   ]
  },
  {
   "cell_type": "code",
   "execution_count": 80,
   "id": "2fb3586c-5061-4d9f-ba04-b34fd314cba2",
   "metadata": {},
   "outputs": [
    {
     "name": "stdout",
     "output_type": "stream",
     "text": [
      "Aprendendo a programar em Python. E a metodologia de ensino da Data Science Academy facilita o aprendizado.\n"
     ]
    }
   ],
   "source": [
    "print(arq2.read())"
   ]
  },
  {
   "cell_type": "code",
   "execution_count": null,
   "id": "c3263b8e-e148-41bf-88f3-684c744d41de",
   "metadata": {},
   "outputs": [],
   "source": []
  }
 ],
 "metadata": {
  "kernelspec": {
   "display_name": "Python 3 (ipykernel)",
   "language": "python",
   "name": "python3"
  },
  "language_info": {
   "codemirror_mode": {
    "name": "ipython",
    "version": 3
   },
   "file_extension": ".py",
   "mimetype": "text/x-python",
   "name": "python",
   "nbconvert_exporter": "python",
   "pygments_lexer": "ipython3",
   "version": "3.12.7"
  }
 },
 "nbformat": 4,
 "nbformat_minor": 5
}
