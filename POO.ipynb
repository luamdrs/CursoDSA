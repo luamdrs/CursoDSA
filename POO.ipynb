{
 "cells": [
  {
   "cell_type": "code",
   "execution_count": 12,
   "id": "4f2da7d4-238c-4d66-a7b4-02bd70bb4a40",
   "metadata": {},
   "outputs": [],
   "source": [
    "# criando uma classe chamada Livro\n",
    "class Livro():\n",
    "\n",
    "    # Este método vai inicializar cada objeto criado a partir desta classe\n",
    "    # O nome deste método é __init__\n",
    "    # (self) é uma referência a cada atributo da própria classe (e não de uma classe mãe, por exemplo)\n",
    "    def __init__(self):\n",
    "\n",
    "        # atributos são propriedades\n",
    "        self.titulo = 'Sapiens - Uma breve história da humanidade'\n",
    "        self.isbn = 9988888\n",
    "        print('Construtor chamado para criar um objeto desta classe.')\n",
    "\n",
    "\n",
    "    # métodos são funções que executam ações nos objetos da classe\n",
    "    def imprime(self):\n",
    "        print(f'Foi criado o livro {self.titulo} com ISBN {self.isbn}.')"
   ]
  },
  {
   "cell_type": "code",
   "execution_count": 13,
   "id": "4b30bec8-1fb8-413d-bdbf-dde0f8905468",
   "metadata": {},
   "outputs": [
    {
     "name": "stdout",
     "output_type": "stream",
     "text": [
      "Construtor chamado para criar um objeto desta classe.\n"
     ]
    }
   ],
   "source": [
    "# criando uma instância da classe Livro\n",
    "livro1 = Livro()"
   ]
  },
  {
   "cell_type": "code",
   "execution_count": 14,
   "id": "213b8956-64ab-4fd3-94c2-1a4478b92522",
   "metadata": {},
   "outputs": [
    {
     "data": {
      "text/plain": [
       "__main__.Livro"
      ]
     },
     "execution_count": 14,
     "metadata": {},
     "output_type": "execute_result"
    }
   ],
   "source": [
    "# o objeto livro1 é do tipo Livro\n",
    "type(livro1)"
   ]
  },
  {
   "cell_type": "code",
   "execution_count": 15,
   "id": "f9533ed6-1f81-443c-baa2-437c5cc59ddb",
   "metadata": {},
   "outputs": [
    {
     "data": {
      "text/plain": [
       "'Sapiens - Uma breve história da humanidade'"
      ]
     },
     "execution_count": 15,
     "metadata": {},
     "output_type": "execute_result"
    }
   ],
   "source": [
    "# atributo do objeto livro1\n",
    "livro1.titulo"
   ]
  },
  {
   "cell_type": "code",
   "execution_count": 16,
   "id": "ef195719-94f4-4ea6-8d91-2a40f06875d2",
   "metadata": {},
   "outputs": [
    {
     "name": "stdout",
     "output_type": "stream",
     "text": [
      "Foi criado o livro Sapiens - Uma breve história da humanidade com ISBN 9988888.\n"
     ]
    }
   ],
   "source": [
    "# método do objeto livro1\n",
    "livro1.imprime()"
   ]
  },
  {
   "cell_type": "code",
   "execution_count": 18,
   "id": "93858d80-06e8-4f5c-96c4-cf69b34de30c",
   "metadata": {},
   "outputs": [],
   "source": [
    "# criando a classe Livro com parâmetros no método construtor\n",
    "class Livro():\n",
    "\n",
    "    def __init__(self, titulo, isbn):\n",
    "        self.titulo = titulo\n",
    "        self.isbn = isbn\n",
    "        print('Construtor chamado para criar um objeto desta classe.')\n",
    "\n",
    "    def imprime(self, titulo, isbn):\n",
    "        print(f'Este é o livro {self.titulo} e ISBN {self.isbn}.')"
   ]
  },
  {
   "cell_type": "code",
   "execution_count": 19,
   "id": "be1fc6f3-7f94-4fed-95cf-d26f21e3bd87",
   "metadata": {},
   "outputs": [
    {
     "name": "stdout",
     "output_type": "stream",
     "text": [
      "Construtor chamado para criar um objeto desta classe.\n"
     ]
    }
   ],
   "source": [
    "# criando o objeto livro2 que é uma instância da classe Livro\n",
    "livro2 = Livro('O poder do hábito', 77886611)"
   ]
  },
  {
   "cell_type": "code",
   "execution_count": 23,
   "id": "985c7134-aecb-4390-9fd0-514b3d416068",
   "metadata": {},
   "outputs": [
    {
     "data": {
      "text/plain": [
       "'O poder do hábito'"
      ]
     },
     "execution_count": 23,
     "metadata": {},
     "output_type": "execute_result"
    }
   ],
   "source": [
    "livro2.titulo"
   ]
  },
  {
   "cell_type": "code",
   "execution_count": 25,
   "id": "89ce7436-f774-4739-9deb-fce6b0a9e771",
   "metadata": {},
   "outputs": [
    {
     "name": "stdout",
     "output_type": "stream",
     "text": [
      "Este é o livro O poder do hábito e ISBN 77886611.\n"
     ]
    }
   ],
   "source": [
    "# método do objeto livro2\n",
    "livro2.imprime('O poder do hábito', 77886611)"
   ]
  },
  {
   "cell_type": "code",
   "execution_count": 30,
   "id": "f3981afe-3c98-4183-9f78-9564e35a7b49",
   "metadata": {},
   "outputs": [],
   "source": [
    "# criando a classe\n",
    "class Algoritmo():\n",
    "\n",
    "    def __init__(self, tipo_algo):\n",
    "        self.tipo = tipo_algo\n",
    "        print('Construtor chamado para criar um objeto desta classe.')"
   ]
  },
  {
   "cell_type": "code",
   "execution_count": 31,
   "id": "c1bfbf74-145a-42c8-9bd5-5c6678801adf",
   "metadata": {},
   "outputs": [
    {
     "name": "stdout",
     "output_type": "stream",
     "text": [
      "Construtor chamado para criar um objeto desta classe.\n"
     ]
    }
   ],
   "source": [
    "# criando um objeto a partir da classe\n",
    "algo1 = Algoritmo(tipo_algo='Deep Learning')"
   ]
  },
  {
   "cell_type": "code",
   "execution_count": 32,
   "id": "345ea537-6d68-4c5a-9f8d-70a0e342b72a",
   "metadata": {},
   "outputs": [
    {
     "name": "stdout",
     "output_type": "stream",
     "text": [
      "Construtor chamado para criar um objeto desta classe.\n"
     ]
    }
   ],
   "source": [
    "# criando um objeto a partir da classe\n",
    "algo2 = Algoritmo(tipo_algo='Random Forest')"
   ]
  },
  {
   "cell_type": "code",
   "execution_count": 34,
   "id": "faac0b7a-3fd4-4741-a0ea-ddb539787075",
   "metadata": {},
   "outputs": [
    {
     "data": {
      "text/plain": [
       "'Deep Learning'"
      ]
     },
     "execution_count": 34,
     "metadata": {},
     "output_type": "execute_result"
    }
   ],
   "source": [
    "# atributo da classe\n",
    "algo1.tipo"
   ]
  },
  {
   "cell_type": "code",
   "execution_count": 36,
   "id": "ef2fe154-8007-4763-8695-5935135a1b19",
   "metadata": {},
   "outputs": [
    {
     "data": {
      "text/plain": [
       "'Random Forest'"
      ]
     },
     "execution_count": 36,
     "metadata": {},
     "output_type": "execute_result"
    }
   ],
   "source": [
    "# atributo da classe\n",
    "algo2.tipo"
   ]
  },
  {
   "cell_type": "markdown",
   "id": "2c50cf21-d5a7-471d-a3ec-2cc2fc0d59c5",
   "metadata": {},
   "source": [
    "### Objetos\n",
    "\n",
    "Em Python, tudo é objeto!"
   ]
  },
  {
   "cell_type": "code",
   "execution_count": 37,
   "id": "dc398074-08c9-477c-970c-1f82f5d81a89",
   "metadata": {},
   "outputs": [],
   "source": [
    "# criando uma lista\n",
    "lst_num = ['Data', 'Science', 'Academy', 'Nota', 10, 10]"
   ]
  },
  {
   "cell_type": "code",
   "execution_count": 38,
   "id": "936554e2-d899-44da-8f56-a96f6f0533ba",
   "metadata": {},
   "outputs": [
    {
     "data": {
      "text/plain": [
       "list"
      ]
     },
     "execution_count": 38,
     "metadata": {},
     "output_type": "execute_result"
    }
   ],
   "source": [
    "# a lista lst_num é um objeto, uma instância da classe lista em python\n",
    "type(lst_num)"
   ]
  },
  {
   "cell_type": "code",
   "execution_count": 40,
   "id": "6f7b8fbc-3168-4f34-b5db-a3145c5e034a",
   "metadata": {},
   "outputs": [
    {
     "name": "stdout",
     "output_type": "stream",
     "text": [
      "<class 'list'>\n"
     ]
    }
   ],
   "source": [
    "print(type([]))"
   ]
  },
  {
   "cell_type": "code",
   "execution_count": 42,
   "id": "80031f63-325b-4029-963f-2cf8e8e642a5",
   "metadata": {},
   "outputs": [
    {
     "data": {
      "text/plain": [
       "2"
      ]
     },
     "execution_count": 42,
     "metadata": {},
     "output_type": "execute_result"
    }
   ],
   "source": [
    "lst_num.count(10)"
   ]
  },
  {
   "cell_type": "code",
   "execution_count": 48,
   "id": "a011a85e-84a6-4c80-8121-f3e415927463",
   "metadata": {},
   "outputs": [
    {
     "name": "stdout",
     "output_type": "stream",
     "text": [
      "<class 'int'>\n",
      "<class 'list'>\n",
      "<class 'tuple'>\n",
      "<class 'dict'>\n",
      "<class 'str'>\n"
     ]
    }
   ],
   "source": [
    "# usamos a função type para verificar o tipo de um objeto\n",
    "print(type(10))\n",
    "print(type([]))\n",
    "print(type(()))\n",
    "print(type({}))\n",
    "print(type('a'))"
   ]
  },
  {
   "cell_type": "code",
   "execution_count": 49,
   "id": "1dc6fcd3-c426-494f-8753-2201199c45ce",
   "metadata": {},
   "outputs": [],
   "source": [
    "# criando um novo tipo de objeto chamado Carro\n",
    "class Carro(object):\n",
    "    pass"
   ]
  },
  {
   "cell_type": "code",
   "execution_count": 50,
   "id": "08568160-a6c8-4f5a-a03b-61721c259243",
   "metadata": {},
   "outputs": [],
   "source": [
    "# instância do Carro\n",
    "ferrari = Carro()"
   ]
  },
  {
   "cell_type": "code",
   "execution_count": 51,
   "id": "b14b5d9d-3cec-409a-aae0-e5fb7c5a3f70",
   "metadata": {},
   "outputs": [
    {
     "name": "stdout",
     "output_type": "stream",
     "text": [
      "<class '__main__.Carro'>\n"
     ]
    }
   ],
   "source": [
    "print(type(ferrari))"
   ]
  },
  {
   "cell_type": "code",
   "execution_count": 52,
   "id": "64ccbed6-d861-46f3-933b-ce717f08556d",
   "metadata": {},
   "outputs": [],
   "source": [
    "# criando uma classe\n",
    "class Estudantes:\n",
    "    def __init__(self, nome, idade, nota):\n",
    "        self.nome = nome\n",
    "        self.idade = idade\n",
    "        self.nota = nota"
   ]
  },
  {
   "cell_type": "code",
   "execution_count": 53,
   "id": "c551fb5c-8148-4da2-a38a-48faf9e49fbd",
   "metadata": {},
   "outputs": [],
   "source": [
    "# criando um objeto chamado estudante1 a partir da classe Estudantes\n",
    "estudante1 = Estudantes('Bob', 12, 9.5)"
   ]
  },
  {
   "cell_type": "code",
   "execution_count": 54,
   "id": "22bc06f6-aed6-4e08-af53-4f7690f29edf",
   "metadata": {},
   "outputs": [
    {
     "data": {
      "text/plain": [
       "'Bob'"
      ]
     },
     "execution_count": 54,
     "metadata": {},
     "output_type": "execute_result"
    }
   ],
   "source": [
    "# atributo da classe Estudante, utilizado por cada objeto criado a partir desta classe\n",
    "estudante1.nome"
   ]
  },
  {
   "cell_type": "code",
   "execution_count": 55,
   "id": "619276b4-5fe8-4827-9573-d9844abd9752",
   "metadata": {},
   "outputs": [
    {
     "data": {
      "text/plain": [
       "12"
      ]
     },
     "execution_count": 55,
     "metadata": {},
     "output_type": "execute_result"
    }
   ],
   "source": [
    "# atributo da classe Estudante, utilizado por cada objeto criado a partir desta classe\n",
    "estudante1.idade"
   ]
  },
  {
   "cell_type": "code",
   "execution_count": 56,
   "id": "c33b7a70-a315-4d04-8e43-3a2c63c31592",
   "metadata": {},
   "outputs": [
    {
     "data": {
      "text/plain": [
       "9.5"
      ]
     },
     "execution_count": 56,
     "metadata": {},
     "output_type": "execute_result"
    }
   ],
   "source": [
    "# atributo da classe Estudante, utilizado por cada objeto criado a partir desta classe\n",
    "estudante1.nota"
   ]
  },
  {
   "cell_type": "code",
   "execution_count": 64,
   "id": "e407a954-d5fd-41bf-a998-277cc6f7ae7b",
   "metadata": {},
   "outputs": [],
   "source": [
    "# criando uma classe \n",
    "class Funcionarios:\n",
    "    def __init__(self, nome, salario, cargo):\n",
    "        self.nome = nome\n",
    "        self.salario = salario\n",
    "        self.cargo = cargo\n",
    "\n",
    "    def listFunc(self):\n",
    "        print(f'Funcionário(a) {self.nome} tem salário de R${self.salario:.2f} e exerce o cargo de {self.cargo}.')"
   ]
  },
  {
   "cell_type": "code",
   "execution_count": 65,
   "id": "10d4f3fd-ec09-4648-bce5-4fcc56c2de0f",
   "metadata": {},
   "outputs": [],
   "source": [
    "# criando um objeto chamado func1 a partir da classe Funcionarios\n",
    "func1 = Funcionarios('Luana', 20000, 'Cientista de Dados')"
   ]
  },
  {
   "cell_type": "code",
   "execution_count": 66,
   "id": "eb4d9b66-9302-4a51-b6a7-26b2121dad1a",
   "metadata": {},
   "outputs": [
    {
     "name": "stdout",
     "output_type": "stream",
     "text": [
      "Funcionário(a) Luana tem salário de R$20000.00 e exerce o cargo de Cientista de Dados.\n"
     ]
    }
   ],
   "source": [
    "# usando o método da classe\n",
    "func1.listFunc()"
   ]
  },
  {
   "cell_type": "code",
   "execution_count": 67,
   "id": "be342e9f-ced6-4d70-9eea-c0e9a429558a",
   "metadata": {},
   "outputs": [
    {
     "name": "stdout",
     "output_type": "stream",
     "text": [
      "****** Usando atributos ******\n"
     ]
    }
   ],
   "source": [
    "print('****** Usando atributos ******')"
   ]
  },
  {
   "cell_type": "code",
   "execution_count": 68,
   "id": "01f88155-0a6c-4cac-9b24-65ca404f008c",
   "metadata": {},
   "outputs": [
    {
     "data": {
      "text/plain": [
       "True"
      ]
     },
     "execution_count": 68,
     "metadata": {},
     "output_type": "execute_result"
    }
   ],
   "source": [
    "# Tem atributo 'nome' no objeto func1?\n",
    "hasattr(func1, 'nome')"
   ]
  },
  {
   "cell_type": "code",
   "execution_count": 69,
   "id": "3fe88ec9-1ede-4dec-ba68-7d0bd7e0a8ad",
   "metadata": {},
   "outputs": [
    {
     "data": {
      "text/plain": [
       "True"
      ]
     },
     "execution_count": 69,
     "metadata": {},
     "output_type": "execute_result"
    }
   ],
   "source": [
    "# Tem atributo 'salario' no objeto func1?\n",
    "hasattr(func1, 'salario')"
   ]
  },
  {
   "cell_type": "code",
   "execution_count": 71,
   "id": "11262323-6c54-45c4-bf86-94695d312d60",
   "metadata": {},
   "outputs": [],
   "source": [
    "# altere o salario para o valor x\n",
    "setattr(func1, 'salario', '30000')"
   ]
  },
  {
   "cell_type": "code",
   "execution_count": 73,
   "id": "fda7391c-3249-4704-91d1-7fb7d93a780f",
   "metadata": {},
   "outputs": [
    {
     "data": {
      "text/plain": [
       "True"
      ]
     },
     "execution_count": 73,
     "metadata": {},
     "output_type": "execute_result"
    }
   ],
   "source": [
    "# conferindo se tem o atributo 'salario' no objeto func1 novamente\n",
    "hasattr(func1, 'salario')"
   ]
  },
  {
   "cell_type": "code",
   "execution_count": 75,
   "id": "174a81eb-3f04-49e7-8e2b-1719e2e0fff3",
   "metadata": {},
   "outputs": [
    {
     "data": {
      "text/plain": [
       "'30000'"
      ]
     },
     "execution_count": 75,
     "metadata": {},
     "output_type": "execute_result"
    }
   ],
   "source": [
    "# retorne o valor do atributo salario\n",
    "getattr(func1, 'salario')"
   ]
  },
  {
   "cell_type": "code",
   "execution_count": 76,
   "id": "12e6e9d8-8c62-40eb-bd94-0e6357da567f",
   "metadata": {},
   "outputs": [],
   "source": [
    "# deletar o atributo 'salario'\n",
    "delattr(func1, 'salario')"
   ]
  },
  {
   "cell_type": "code",
   "execution_count": 77,
   "id": "47e06542-7d91-4008-9bca-17670f40cd59",
   "metadata": {},
   "outputs": [
    {
     "data": {
      "text/plain": [
       "False"
      ]
     },
     "execution_count": 77,
     "metadata": {},
     "output_type": "execute_result"
    }
   ],
   "source": [
    "# conferindo se tem o atributo 'salario' no objeto func1 novamente\n",
    "hasattr(func1, 'salario')"
   ]
  },
  {
   "cell_type": "code",
   "execution_count": 78,
   "id": "ec9ddc4a-c4a2-4944-beb7-ed2724c5917c",
   "metadata": {},
   "outputs": [],
   "source": [
    "# criando uma classe chamada Circulo\n",
    "class Circulo():\n",
    "\n",
    "    # o valor de pi é constante\n",
    "    pi = 3.14\n",
    "\n",
    "    # quando um objeto desta classe for criado, este método será executado e o valor default do raio será 5\n",
    "    def __init__(self, raio=5):\n",
    "        self.raio = raio\n",
    "\n",
    "    # este método calcula a área\n",
    "    def area(self):\n",
    "        return (self.raio * self.raio) * Circulo.pi\n",
    "\n",
    "    # método para gerar um novo raio\n",
    "    def setRaio(self, novo_raio):\n",
    "        self.raio = novo_raio\n",
    "\n",
    "    # método para obter o raio do círculo\n",
    "    def getRaio(self):\n",
    "        return self.raio"
   ]
  },
  {
   "cell_type": "code",
   "execution_count": 79,
   "id": "bdbc1bfc-3c67-41fe-b737-5edc9f0fa2c4",
   "metadata": {},
   "outputs": [],
   "source": [
    "# criando um objeto circ, uma instância da classe Circulo\n",
    "circ = Circulo()"
   ]
  },
  {
   "cell_type": "code",
   "execution_count": 80,
   "id": "fa02adb1-ed7c-4f3b-8c99-28f7de90f6d8",
   "metadata": {},
   "outputs": [
    {
     "data": {
      "text/plain": [
       "5"
      ]
     },
     "execution_count": 80,
     "metadata": {},
     "output_type": "execute_result"
    }
   ],
   "source": [
    "# executando um método da classe Circulo\n",
    "circ.getRaio()"
   ]
  },
  {
   "cell_type": "code",
   "execution_count": 82,
   "id": "709d7a4f-96b8-4c9a-834e-afefe36f71c4",
   "metadata": {},
   "outputs": [],
   "source": [
    "# criando outro objeto chamado circ1, uma instância da classe Circulo\n",
    "# agora subrescrevendo o valor do atributo\n",
    "circ1 = Circulo(7)"
   ]
  },
  {
   "cell_type": "code",
   "execution_count": 84,
   "id": "3762e879-30dd-4ae6-bea8-83c1e629afdb",
   "metadata": {},
   "outputs": [
    {
     "data": {
      "text/plain": [
       "7"
      ]
     },
     "execution_count": 84,
     "metadata": {},
     "output_type": "execute_result"
    }
   ],
   "source": [
    "# executando um método da classe Circulo\n",
    "circ1.getRaio()"
   ]
  },
  {
   "cell_type": "code",
   "execution_count": 85,
   "id": "d90af477-6f72-4585-a814-2a958a67648f",
   "metadata": {},
   "outputs": [
    {
     "name": "stdout",
     "output_type": "stream",
     "text": [
      "O raio é: 5\n"
     ]
    }
   ],
   "source": [
    "# imprimindo o raio\n",
    "print(f'O raio é: {circ.getRaio()}')"
   ]
  },
  {
   "cell_type": "code",
   "execution_count": 88,
   "id": "231990f6-dd3e-4a31-8b80-e645ec1e9a16",
   "metadata": {},
   "outputs": [
    {
     "name": "stdout",
     "output_type": "stream",
     "text": [
      "Área igual a: 78.5\n"
     ]
    }
   ],
   "source": [
    "# imprimindo a area\n",
    "print(f'Área igual a: {circ.area()}')"
   ]
  },
  {
   "cell_type": "code",
   "execution_count": 89,
   "id": "19d7cf63-815f-4cb0-a143-5eab349b6ff6",
   "metadata": {},
   "outputs": [],
   "source": [
    "# gerando um novo valor para o raio do círculo\n",
    "circ.setRaio(3)"
   ]
  },
  {
   "cell_type": "code",
   "execution_count": 91,
   "id": "01e2c8a1-d368-4f8b-acd6-303dd1af895e",
   "metadata": {},
   "outputs": [
    {
     "name": "stdout",
     "output_type": "stream",
     "text": [
      "Novo raio igual a: 3\n"
     ]
    }
   ],
   "source": [
    "# imprimindo o novo raio\n",
    "print(f'Novo raio igual a: {circ.getRaio()}')"
   ]
  },
  {
   "cell_type": "markdown",
   "id": "0e234aaa-dbe5-46a3-8919-d521a41064df",
   "metadata": {},
   "source": [
    "### Herança"
   ]
  },
  {
   "cell_type": "code",
   "execution_count": 93,
   "id": "e1f48821-153d-47b4-83a5-0f5eb4161c4a",
   "metadata": {},
   "outputs": [],
   "source": [
    "# criando a classe Animal - super-classe\n",
    "class Animal:\n",
    "\n",
    "    def __init__(self):\n",
    "        print('Animal criado.')\n",
    "\n",
    "    def imprimir(self):\n",
    "        print('Este é um animal.')\n",
    "\n",
    "    def comer(self):\n",
    "        print('Hora de comer.')\n",
    "\n",
    "    def emitir_som(self):\n",
    "        pass"
   ]
  },
  {
   "cell_type": "code",
   "execution_count": 96,
   "id": "26cd64ad-ca33-4c3f-848c-6b1c888b03ec",
   "metadata": {},
   "outputs": [],
   "source": [
    "# criando a classe Cachorro - sub-classe\n",
    "class Cachorro(Animal):\n",
    "\n",
    "    def __init__(self):\n",
    "        Animal.__init__(self)\n",
    "        print('Objeto Cachorro criado.')\n",
    "\n",
    "    def emitir_som(self):\n",
    "        print('Au au!')"
   ]
  },
  {
   "cell_type": "code",
   "execution_count": 98,
   "id": "c1d6f8aa-249e-44cb-8cc0-722a30d39142",
   "metadata": {},
   "outputs": [],
   "source": [
    "# criando a classe Gato - sub-classe\n",
    "class Gato(Animal):\n",
    "\n",
    "    def __init__(self):\n",
    "        Animal.__init__(self)\n",
    "        print('Objeto Gato criado.')\n",
    "\n",
    "    def emitir_som(self):\n",
    "        print('Miau!')"
   ]
  },
  {
   "cell_type": "code",
   "execution_count": 99,
   "id": "29b4dcdf-0bf5-4444-b01c-17e0150f39ed",
   "metadata": {},
   "outputs": [
    {
     "name": "stdout",
     "output_type": "stream",
     "text": [
      "Animal criado.\n",
      "Objeto Cachorro criado.\n"
     ]
    }
   ],
   "source": [
    "# criando um objeto (instanciando a classe)\n",
    "rex = Cachorro()"
   ]
  },
  {
   "cell_type": "code",
   "execution_count": 100,
   "id": "38997fe1-3ca3-407e-adaf-61fcd7cedf7b",
   "metadata": {},
   "outputs": [
    {
     "name": "stdout",
     "output_type": "stream",
     "text": [
      "Au au!\n"
     ]
    }
   ],
   "source": [
    "rex.emitir_som()"
   ]
  },
  {
   "cell_type": "code",
   "execution_count": 101,
   "id": "b2523cc7-1e1b-4a53-a56a-a2e4373a3dac",
   "metadata": {},
   "outputs": [
    {
     "name": "stdout",
     "output_type": "stream",
     "text": [
      "Animal criado.\n",
      "Objeto Gato criado.\n"
     ]
    }
   ],
   "source": [
    "# criando um objeto (instanciando a classe)\n",
    "blue = Gato()"
   ]
  },
  {
   "cell_type": "code",
   "execution_count": 102,
   "id": "69ce4c1a-7d80-489b-a49c-0de3d4da5f58",
   "metadata": {},
   "outputs": [
    {
     "name": "stdout",
     "output_type": "stream",
     "text": [
      "Miau!\n"
     ]
    }
   ],
   "source": [
    "blue.emitir_som()"
   ]
  },
  {
   "cell_type": "code",
   "execution_count": 104,
   "id": "443f2bb2-2024-4bf6-8d01-12ee284da6de",
   "metadata": {},
   "outputs": [
    {
     "name": "stdout",
     "output_type": "stream",
     "text": [
      "Este é um animal.\n"
     ]
    }
   ],
   "source": [
    "rex.imprimir()"
   ]
  },
  {
   "cell_type": "code",
   "execution_count": 105,
   "id": "20efdc57-2243-4639-8aca-bea778d50865",
   "metadata": {},
   "outputs": [
    {
     "name": "stdout",
     "output_type": "stream",
     "text": [
      "Hora de comer.\n"
     ]
    }
   ],
   "source": [
    "rex.comer()"
   ]
  },
  {
   "cell_type": "code",
   "execution_count": 106,
   "id": "29cd6016-5472-44ec-8050-b0b3b1f8da89",
   "metadata": {},
   "outputs": [
    {
     "name": "stdout",
     "output_type": "stream",
     "text": [
      "Hora de comer.\n"
     ]
    }
   ],
   "source": [
    "blue.comer()"
   ]
  },
  {
   "cell_type": "markdown",
   "id": "28b25b31-2008-4ec7-87f2-9f44e2076cbb",
   "metadata": {},
   "source": [
    "### Polimorfismo"
   ]
  },
  {
   "cell_type": "code",
   "execution_count": 107,
   "id": "37924cfa-3099-41f3-a365-ff3f7cec2944",
   "metadata": {},
   "outputs": [],
   "source": [
    "# superclasse\n",
    "class Veiculo:\n",
    "\n",
    "    def __init__(self, marca, modelo):\n",
    "        self.marca = marca\n",
    "        self.modelo = modelo\n",
    "\n",
    "    def acelerar(self):\n",
    "        pass\n",
    "\n",
    "    def frear(self):\n",
    "        pass"
   ]
  },
  {
   "cell_type": "code",
   "execution_count": 108,
   "id": "5f129ca1-bf1f-4e33-b555-48ea42f4c851",
   "metadata": {},
   "outputs": [],
   "source": [
    "# subclasse\n",
    "class Carro(Veiculo):\n",
    "\n",
    "    def acelerar(self):\n",
    "        print('O carro está acelerando.')\n",
    "\n",
    "    def frear(self):\n",
    "        print('O carro está freando.')"
   ]
  },
  {
   "cell_type": "code",
   "execution_count": 109,
   "id": "64cb8ec2-9e2e-4a8f-a641-ef7fbce83e2b",
   "metadata": {},
   "outputs": [],
   "source": [
    "# subclasse\n",
    "class Moto(Veiculo):\n",
    "\n",
    "    def acelerar(self):\n",
    "        print('A moto está acelerando.')\n",
    "\n",
    "    def frear(self):\n",
    "        print('A moto está freando.')"
   ]
  },
  {
   "cell_type": "code",
   "execution_count": 116,
   "id": "f3a5661b-9dbf-4bd5-a7f8-e35cd128b7cc",
   "metadata": {},
   "outputs": [],
   "source": [
    "# subclasse\n",
    "class Aviao(Veiculo):\n",
    "\n",
    "    def acelerar(self):\n",
    "        print('O avião está acelerando.')\n",
    "\n",
    "    def frear(self):\n",
    "        print('O avião está freando.')\n",
    "\n",
    "    def decolar(self):\n",
    "        print('O avião está decolando.')"
   ]
  },
  {
   "cell_type": "code",
   "execution_count": 117,
   "id": "c684613e-bf37-49df-8d4f-1b245e8017e7",
   "metadata": {},
   "outputs": [],
   "source": [
    "# criando os objetos\n",
    "lista_veiculos = [Carro('Porsche', '911 Turbo'), Moto('Honda', 'CB 1000R Black Edition'), Aviao('Boeing', '757')]"
   ]
  },
  {
   "cell_type": "code",
   "execution_count": 123,
   "id": "93876d46-f3af-410c-858c-24f8bb4747dd",
   "metadata": {},
   "outputs": [
    {
     "name": "stdout",
     "output_type": "stream",
     "text": [
      "O carro está acelerando.\n",
      "O carro está freando.\n",
      "------------------------\n",
      "A moto está acelerando.\n",
      "A moto está freando.\n",
      "------------------------\n",
      "O avião está acelerando.\n",
      "O avião está freando.\n",
      "O avião está decolando.\n",
      "------------------------\n"
     ]
    }
   ],
   "source": [
    "# loop\n",
    "for item in lista_veiculos:\n",
    "\n",
    "    # o método acelerar tem comportamento diferente dependendo do tipo de objeto\n",
    "    item.acelerar()\n",
    "\n",
    "    # o método frear tem comportamento diferente dependendo do tipo de objeto\n",
    "    item.frear()\n",
    "\n",
    "    # executamos o método decolar somente se o objeto for instância da classe Aviao\n",
    "    if isinstance(item, Aviao):\n",
    "        item.decolar()\n",
    "\n",
    "    print('------------------------')\n"
   ]
  },
  {
   "cell_type": "markdown",
   "id": "e698c2da-304c-48a7-ada4-f86d446f22aa",
   "metadata": {},
   "source": [
    "## Exercicios"
   ]
  },
  {
   "cell_type": "markdown",
   "id": "b70319c7-c48f-48d6-b503-e675e1011998",
   "metadata": {},
   "source": [
    "Exercício 1 - Crie um objeto a partir da classe abaixo, chamado roc1, passando 2 parâmetros e depois faça uma chamada aos atributos e métodos"
   ]
  },
  {
   "cell_type": "code",
   "execution_count": 124,
   "id": "cde28c92-cbea-45c4-9902-d670f92bf141",
   "metadata": {},
   "outputs": [],
   "source": [
    "from math import sqrt"
   ]
  },
  {
   "cell_type": "code",
   "execution_count": 125,
   "id": "a02fbe2e-1646-4071-9313-c18d012544f0",
   "metadata": {},
   "outputs": [],
   "source": [
    "class Rocket():\n",
    "\n",
    "    def __init__(self, x=0, y=0):\n",
    "        self.x = x\n",
    "        self.y = y\n",
    "\n",
    "    def move_rocket(self, x_increment=0, y_increment=0):\n",
    "        self.x = x_increment\n",
    "        self.y = y_increment\n",
    "\n",
    "    def print_rocket(self):\n",
    "        print(self.x, self.y)"
   ]
  },
  {
   "cell_type": "code",
   "execution_count": 126,
   "id": "2c0124ba-70cd-42f0-9cb3-45d311b29528",
   "metadata": {},
   "outputs": [],
   "source": [
    "roc1 = Rocket(10, 34)"
   ]
  },
  {
   "cell_type": "code",
   "execution_count": 127,
   "id": "f301bdf4-aeb8-490a-8d27-02f3b4f5190f",
   "metadata": {},
   "outputs": [
    {
     "data": {
      "text/plain": [
       "10"
      ]
     },
     "execution_count": 127,
     "metadata": {},
     "output_type": "execute_result"
    }
   ],
   "source": [
    "roc1.x"
   ]
  },
  {
   "cell_type": "code",
   "execution_count": 128,
   "id": "ba45e077-721b-466e-9d7e-8f44bd5f012f",
   "metadata": {},
   "outputs": [
    {
     "data": {
      "text/plain": [
       "34"
      ]
     },
     "execution_count": 128,
     "metadata": {},
     "output_type": "execute_result"
    }
   ],
   "source": [
    "roc1.y"
   ]
  },
  {
   "cell_type": "code",
   "execution_count": 129,
   "id": "2bd2fcc0-b5d5-466f-97bd-8a42ca040ad7",
   "metadata": {},
   "outputs": [
    {
     "name": "stdout",
     "output_type": "stream",
     "text": [
      "10 34\n"
     ]
    }
   ],
   "source": [
    "roc1.print_rocket()"
   ]
  },
  {
   "cell_type": "code",
   "execution_count": 130,
   "id": "3b4ecf87-18a5-4a59-b8a2-0a21f62b39f2",
   "metadata": {},
   "outputs": [],
   "source": [
    "roc1.move_rocket(12, 44)"
   ]
  },
  {
   "cell_type": "code",
   "execution_count": 131,
   "id": "29cadc98-a010-4391-abc5-6d442641269c",
   "metadata": {},
   "outputs": [
    {
     "name": "stdout",
     "output_type": "stream",
     "text": [
      "12 44\n"
     ]
    }
   ],
   "source": [
    "roc1.print_rocket()"
   ]
  },
  {
   "cell_type": "markdown",
   "id": "cf805195-58ec-426d-a009-ef15aede4826",
   "metadata": {},
   "source": [
    "Exercício 2 - Crie uma classe chamada Pessoa() com os atributos: nome, cidade, telefone e e-mail. Use pelo menos 2 métodos especiais na sua classe. Crie um objeto da sua classe e faça uma chamada a pelo menos um dos seus métodos especiais."
   ]
  },
  {
   "cell_type": "code",
   "execution_count": 135,
   "id": "6138ea2c-da94-4f6e-9c9a-cabe55c9c754",
   "metadata": {},
   "outputs": [],
   "source": [
    "class Pessoa():\n",
    "\n",
    "    def __init__(self, nome, cidade, telefone, email):\n",
    "        self.nome = nome\n",
    "        self.cidade = cidade\n",
    "        self.telefone = telefone\n",
    "        self.email = email\n",
    "        print('Objeto criado.')\n",
    "\n",
    "    def __str__(self):\n",
    "        return f'O usuário {self.nome} mora na cidade {self.cidade}.'"
   ]
  },
  {
   "cell_type": "code",
   "execution_count": 139,
   "id": "8e46e0c1-d68e-4f26-a925-1d5a757815c8",
   "metadata": {},
   "outputs": [
    {
     "name": "stdout",
     "output_type": "stream",
     "text": [
      "Objeto criado.\n",
      "O usuário Luana mora na cidade João Pessoa.\n"
     ]
    }
   ],
   "source": [
    "pessoa1 = Pessoa('Luana', 'João Pessoa', '(83) 99393-4645', 'luamdrs1994@gmail.com')\n",
    "print(pessoa1)"
   ]
  },
  {
   "cell_type": "code",
   "execution_count": 140,
   "id": "2a6cf24c-edb5-4c53-9e58-fa6130b17499",
   "metadata": {},
   "outputs": [
    {
     "data": {
      "text/plain": [
       "'(83) 99393-4645'"
      ]
     },
     "execution_count": 140,
     "metadata": {},
     "output_type": "execute_result"
    }
   ],
   "source": [
    "pessoa1.telefone"
   ]
  },
  {
   "cell_type": "code",
   "execution_count": 141,
   "id": "5065ab03-9155-49cb-801d-d3d9093508a9",
   "metadata": {},
   "outputs": [
    {
     "data": {
      "text/plain": [
       "'luamdrs1994@gmail.com'"
      ]
     },
     "execution_count": 141,
     "metadata": {},
     "output_type": "execute_result"
    }
   ],
   "source": [
    "pessoa1.email"
   ]
  },
  {
   "cell_type": "markdown",
   "id": "45e488f1-4d13-47b7-af60-359f7ce203fb",
   "metadata": {},
   "source": [
    "Exercício 3 - Crie a classe Smartphone com 2 atributos, tamanho e interface e crie a classe MP3Player com os atributos capacidade. A classe MP3player deve herdar os atributos da classe Smartphone."
   ]
  },
  {
   "cell_type": "code",
   "execution_count": 145,
   "id": "b5537dc2-595d-469d-ac04-01853c67d43b",
   "metadata": {},
   "outputs": [],
   "source": [
    "class Smartphone(object):\n",
    "    def __init__(self, tamanho, interface):\n",
    "        self.tamanho = tamanho\n",
    "        self.interface = interface\n",
    "\n",
    "class MP3Player(Smartphone):\n",
    "    def __init__(self, capacidade, tamanho='Pequeno', interface='Led'):\n",
    "        self.capacidade = capacidade\n",
    "        Smartphone.__init__(self, tamanho, interface)\n",
    "\n",
    "    def print_mp3player(self):\n",
    "        print(f'Valores para o objeto criado: {self.capacidade}, {self.tamanho}, {self.interface}')"
   ]
  },
  {
   "cell_type": "code",
   "execution_count": 147,
   "id": "8314c497-f26d-4402-91a9-445f6a09f4a7",
   "metadata": {},
   "outputs": [
    {
     "name": "stdout",
     "output_type": "stream",
     "text": [
      "Valores para o objeto criado: 64 GB, Pequeno, Led\n"
     ]
    }
   ],
   "source": [
    "device1 = MP3Player('64 GB')\n",
    "device1.print_mp3player()"
   ]
  },
  {
   "cell_type": "code",
   "execution_count": null,
   "id": "6155b589-807b-45a7-a835-055df2516aa6",
   "metadata": {},
   "outputs": [],
   "source": []
  }
 ],
 "metadata": {
  "kernelspec": {
   "display_name": "Python 3 (ipykernel)",
   "language": "python",
   "name": "python3"
  },
  "language_info": {
   "codemirror_mode": {
    "name": "ipython",
    "version": 3
   },
   "file_extension": ".py",
   "mimetype": "text/x-python",
   "name": "python",
   "nbconvert_exporter": "python",
   "pygments_lexer": "ipython3",
   "version": "3.12.7"
  }
 },
 "nbformat": 4,
 "nbformat_minor": 5
}
